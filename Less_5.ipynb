{
 "cells": [
  {
   "cell_type": "code",
   "execution_count": null,
   "id": "a884d3cc",
   "metadata": {},
   "outputs": [],
   "source": [
    "print('Python_Lesson_5')\n",
    "\n",
    "print('\\ntask_1')\n",
    "print('1. Взять датасет из домашнего задания №2. Проверить гипотезу о том, в каком варианте теста (control/personalization) больше конверсия (converted) и значимо ли это отличие статистически.')\n",
    "print('-' * 77)"
   ]
  },
  {
   "cell_type": "code",
   "execution_count": 42,
   "id": "c46a90b1",
   "metadata": {},
   "outputs": [],
   "source": [
    "import pandas as pd\n",
    "import numpy as np\n",
    "import scipy.stats as stats\n",
    "from scipy.optimize import Bounds\n",
    "from scipy.optimize import minimize"
   ]
  },
  {
   "cell_type": "code",
   "execution_count": 18,
   "id": "d4677bd2",
   "metadata": {},
   "outputs": [
    {
     "data": {
      "text/html": [
       "<div>\n",
       "<style scoped>\n",
       "    .dataframe tbody tr th:only-of-type {\n",
       "        vertical-align: middle;\n",
       "    }\n",
       "\n",
       "    .dataframe tbody tr th {\n",
       "        vertical-align: top;\n",
       "    }\n",
       "\n",
       "    .dataframe thead th {\n",
       "        text-align: right;\n",
       "    }\n",
       "</style>\n",
       "<table border=\"1\" class=\"dataframe\">\n",
       "  <thead>\n",
       "    <tr style=\"text-align: right;\">\n",
       "      <th></th>\n",
       "      <th>user_id</th>\n",
       "      <th>date_served</th>\n",
       "      <th>marketing_channel</th>\n",
       "      <th>variant</th>\n",
       "      <th>language_displayed</th>\n",
       "      <th>converted</th>\n",
       "      <th>subscribing_channel</th>\n",
       "      <th>date_subscribed</th>\n",
       "      <th>date_canceled</th>\n",
       "      <th>is_retained</th>\n",
       "      <th>age_group</th>\n",
       "      <th>language_preferred</th>\n",
       "    </tr>\n",
       "  </thead>\n",
       "  <tbody>\n",
       "    <tr>\n",
       "      <th>0</th>\n",
       "      <td>a1000</td>\n",
       "      <td>1/1/18</td>\n",
       "      <td>House Ads</td>\n",
       "      <td>personalization</td>\n",
       "      <td>English</td>\n",
       "      <td>True</td>\n",
       "      <td>House Ads</td>\n",
       "      <td>1/1/18</td>\n",
       "      <td>NaN</td>\n",
       "      <td>True</td>\n",
       "      <td>0-18 years</td>\n",
       "      <td>English</td>\n",
       "    </tr>\n",
       "    <tr>\n",
       "      <th>1</th>\n",
       "      <td>a1001</td>\n",
       "      <td>1/1/18</td>\n",
       "      <td>House Ads</td>\n",
       "      <td>personalization</td>\n",
       "      <td>English</td>\n",
       "      <td>True</td>\n",
       "      <td>House Ads</td>\n",
       "      <td>1/1/18</td>\n",
       "      <td>NaN</td>\n",
       "      <td>True</td>\n",
       "      <td>19-24 years</td>\n",
       "      <td>English</td>\n",
       "    </tr>\n",
       "    <tr>\n",
       "      <th>2</th>\n",
       "      <td>a1002</td>\n",
       "      <td>1/1/18</td>\n",
       "      <td>House Ads</td>\n",
       "      <td>personalization</td>\n",
       "      <td>English</td>\n",
       "      <td>True</td>\n",
       "      <td>House Ads</td>\n",
       "      <td>1/1/18</td>\n",
       "      <td>NaN</td>\n",
       "      <td>True</td>\n",
       "      <td>24-30 years</td>\n",
       "      <td>English</td>\n",
       "    </tr>\n",
       "    <tr>\n",
       "      <th>3</th>\n",
       "      <td>a1003</td>\n",
       "      <td>1/1/18</td>\n",
       "      <td>House Ads</td>\n",
       "      <td>personalization</td>\n",
       "      <td>English</td>\n",
       "      <td>True</td>\n",
       "      <td>House Ads</td>\n",
       "      <td>1/1/18</td>\n",
       "      <td>NaN</td>\n",
       "      <td>True</td>\n",
       "      <td>30-36 years</td>\n",
       "      <td>English</td>\n",
       "    </tr>\n",
       "    <tr>\n",
       "      <th>4</th>\n",
       "      <td>a1004</td>\n",
       "      <td>1/1/18</td>\n",
       "      <td>House Ads</td>\n",
       "      <td>personalization</td>\n",
       "      <td>English</td>\n",
       "      <td>True</td>\n",
       "      <td>House Ads</td>\n",
       "      <td>1/1/18</td>\n",
       "      <td>NaN</td>\n",
       "      <td>True</td>\n",
       "      <td>36-45 years</td>\n",
       "      <td>English</td>\n",
       "    </tr>\n",
       "  </tbody>\n",
       "</table>\n",
       "</div>"
      ],
      "text/plain": [
       "  user_id date_served marketing_channel          variant language_displayed  \\\n",
       "0   a1000      1/1/18         House Ads  personalization            English   \n",
       "1   a1001      1/1/18         House Ads  personalization            English   \n",
       "2   a1002      1/1/18         House Ads  personalization            English   \n",
       "3   a1003      1/1/18         House Ads  personalization            English   \n",
       "4   a1004      1/1/18         House Ads  personalization            English   \n",
       "\n",
       "  converted subscribing_channel date_subscribed date_canceled is_retained  \\\n",
       "0      True           House Ads          1/1/18           NaN        True   \n",
       "1      True           House Ads          1/1/18           NaN        True   \n",
       "2      True           House Ads          1/1/18           NaN        True   \n",
       "3      True           House Ads          1/1/18           NaN        True   \n",
       "4      True           House Ads          1/1/18           NaN        True   \n",
       "\n",
       "     age_group language_preferred  \n",
       "0   0-18 years            English  \n",
       "1  19-24 years            English  \n",
       "2  24-30 years            English  \n",
       "3  30-36 years            English  \n",
       "4  36-45 years            English  "
      ]
     },
     "execution_count": 18,
     "metadata": {},
     "output_type": "execute_result"
    }
   ],
   "source": [
    "df_mc = pd.read_csv('marketing_campaign.csv', header=0, sep=',', index_col=None)\n",
    "df_sub = pd.read_csv('subscribers.csv', header=0, sep=',', index_col=None)\n",
    "df_users = pd.read_csv('users.csv', header=0, sep=',', index_col=None)\n",
    "df = df_mc.merge(df_sub, on='user_id', how='inner').merge(df_users, on='user_id', how='inner')\n",
    "df.head()"
   ]
  },
  {
   "cell_type": "code",
   "execution_count": 33,
   "id": "93eb160a",
   "metadata": {},
   "outputs": [],
   "source": [
    "#мы хотим посмотреть, как наблюдения в нашей выборке распределены в контексте двух признаков — variant и converted. \n",
    "#Для этого мы можем построить таблицу сопряженности, воспользовавшись методом crosstab:"
   ]
  },
  {
   "cell_type": "code",
   "execution_count": null,
   "id": "e2489cc4",
   "metadata": {},
   "outputs": [],
   "source": [
    "\"\"\"\n",
    "Функция pd.crosstab\n",
    "Эксель-подобные таблицы сопряженности\n",
    "\n",
    "pd.crosstab(index, columns, values=None, rownames=None, colnames=None, aggfunc=None, margins=False, margins_name='All',\n",
    "dropna=True, normalize=False)\n",
    "\n",
    "index — значения для группировки по строкам;\n",
    "columns — значения для группировки по столбцам;\n",
    "values — аггригируемый столбец (или столбцы), его значения непосредственно определяют значения таблицы сопряженности;\n",
    "aggfunc — функция, которая будет применена к каждой группе значений values, сгруппированным по значениямindex и columns. Значения этой функции и есть значения сводной таблицы;\n",
    "rownames и colnames — имена строк и столбцов таблицы сопряженности;\n",
    "margins — добавляет результирующий столбец/строку;\n",
    "margins_name — имя результирующего столбец/строку;\n",
    "dropna — не включать столбцы, которые состоят только из NaN;\n",
    "normalize: boolean, {'all', 'index', 'columns'} — нормировка всей таблицы (или только по строкам/столбцам).\n",
    "\"\"\""
   ]
  },
  {
   "cell_type": "code",
   "execution_count": 30,
   "id": "4df0dcc9",
   "metadata": {},
   "outputs": [
    {
     "data": {
      "text/html": [
       "<div>\n",
       "<style scoped>\n",
       "    .dataframe tbody tr th:only-of-type {\n",
       "        vertical-align: middle;\n",
       "    }\n",
       "\n",
       "    .dataframe tbody tr th {\n",
       "        vertical-align: top;\n",
       "    }\n",
       "\n",
       "    .dataframe thead th {\n",
       "        text-align: right;\n",
       "    }\n",
       "</style>\n",
       "<table border=\"1\" class=\"dataframe\">\n",
       "  <thead>\n",
       "    <tr style=\"text-align: right;\">\n",
       "      <th>converted</th>\n",
       "      <th>False</th>\n",
       "      <th>True</th>\n",
       "    </tr>\n",
       "    <tr>\n",
       "      <th>variant</th>\n",
       "      <th></th>\n",
       "      <th></th>\n",
       "    </tr>\n",
       "  </thead>\n",
       "  <tbody>\n",
       "    <tr>\n",
       "      <th>control</th>\n",
       "      <td>4705</td>\n",
       "      <td>371</td>\n",
       "    </tr>\n",
       "    <tr>\n",
       "      <th>personalization</th>\n",
       "      <td>4241</td>\n",
       "      <td>705</td>\n",
       "    </tr>\n",
       "  </tbody>\n",
       "</table>\n",
       "</div>"
      ],
      "text/plain": [
       "converted        False  True\n",
       "variant                     \n",
       "control           4705   371\n",
       "personalization   4241   705"
      ]
     },
     "execution_count": 30,
     "metadata": {},
     "output_type": "execute_result"
    }
   ],
   "source": [
    "pd.crosstab(df['variant'], df['converted'], normalize=False)\n"
   ]
  },
  {
   "cell_type": "code",
   "execution_count": 40,
   "id": "d87eccb2",
   "metadata": {},
   "outputs": [
    {
     "name": "stdout",
     "output_type": "stream",
     "text": [
      "chisq = 126.07767827548582, pvalue = 2.9568009705199523e-29\n"
     ]
    }
   ],
   "source": [
    "result = stats.chi2_contingency(data1, correction = False)\n",
    "chisq, pvalue = result[:2]\n",
    "print('chisq = {}, pvalue = {}'.format(chisq, pvalue))"
   ]
  },
  {
   "cell_type": "code",
   "execution_count": null,
   "id": "5056c763",
   "metadata": {},
   "outputs": [],
   "source": [
    "#Вывод: по variant В personalization конверсия выше. "
   ]
  },
  {
   "cell_type": "code",
   "execution_count": null,
   "id": "6dab34e9",
   "metadata": {},
   "outputs": [],
   "source": []
  },
  {
   "cell_type": "code",
   "execution_count": null,
   "id": "b5f1b12d",
   "metadata": {},
   "outputs": [],
   "source": [
    "print('\\ntask_2')\n",
    "print(\"\"\"2. Цех может производить стулья и столы. На производство стула идет 5 единиц материала, \n",
    "      на производство стола - 20 единиц (футов красного дерева). Стул требует 10 человеко-часов, \n",
    "      стол - 15. Имеется 400 единиц материала и 450 человеко-часов. Прибыль при производстве \n",
    "      стула - 45 долларов США, при производстве стола - 80 долларов США. Сколько надо сделать\n",
    "      стульев и столов, чтобы получить максимальную прибыль?\"\"\")\n",
    "print('-' * 77)"
   ]
  },
  {
   "cell_type": "code",
   "execution_count": 43,
   "id": "c3d7dbf4",
   "metadata": {},
   "outputs": [
    {
     "name": "stdout",
     "output_type": "stream",
     "text": [
      "[24. 14.]\n"
     ]
    }
   ],
   "source": [
    "def value(x):\n",
    "  return -45*x[0] - 80*x[1]\n",
    "\n",
    "neq_cons = {'type': 'ineq',\n",
    "             'fun': lambda x: np.array ([400 - 5*x[0] - 20*x[1],\n",
    "                                         450 - 10*x[0] - 15*x[1]])}\n",
    "\n",
    "bnds = Bounds([0, 0], [np.inf, np.inf])\n",
    "\n",
    "x0 = np.array([10, 10])\n",
    "res = minimize(value, x0, method='SLSQP', constraints=neq_cons, bounds=bnds)\n",
    "print(res.x)"
   ]
  },
  {
   "cell_type": "code",
   "execution_count": null,
   "id": "a00e623b",
   "metadata": {},
   "outputs": [],
   "source": [
    "#Вывод:cтульев - 24 шт, cтолов - 14 шт"
   ]
  },
  {
   "cell_type": "code",
   "execution_count": null,
   "id": "464ebb39",
   "metadata": {},
   "outputs": [],
   "source": []
  },
  {
   "cell_type": "code",
   "execution_count": null,
   "id": "c635a72e",
   "metadata": {},
   "outputs": [],
   "source": [
    "print('\\ntask_3')\n",
    "print(\"\"\"3. Средний накопленный доход на пользователя с сайта (cumulative ARPU) составил: \n",
    "day1 0.4$, day3 0.6$, day7 0.8$, day14 1.10$ , day21 1.30$, day30 1.40$. Подберите аппроксимирующую\n",
    "кривую и сделайте прогноз, сколько в среднем принесет денег пользователь на 90й день. Обоснуйте выбор \n",
    "одной из аппроксимирующей кривой вида: y = a*b^x или y = a*ln(x) + b.\"\"\")\n",
    "print('-' * 77)"
   ]
  },
  {
   "cell_type": "code",
   "execution_count": 53,
   "id": "16bda5f4",
   "metadata": {},
   "outputs": [
    {
     "data": {
      "text/html": [
       "<div>\n",
       "<style scoped>\n",
       "    .dataframe tbody tr th:only-of-type {\n",
       "        vertical-align: middle;\n",
       "    }\n",
       "\n",
       "    .dataframe tbody tr th {\n",
       "        vertical-align: top;\n",
       "    }\n",
       "\n",
       "    .dataframe thead th {\n",
       "        text-align: right;\n",
       "    }\n",
       "</style>\n",
       "<table border=\"1\" class=\"dataframe\">\n",
       "  <thead>\n",
       "    <tr style=\"text-align: right;\">\n",
       "      <th></th>\n",
       "      <th>day</th>\n",
       "      <th>retained</th>\n",
       "    </tr>\n",
       "  </thead>\n",
       "  <tbody>\n",
       "    <tr>\n",
       "      <th>0</th>\n",
       "      <td>1</td>\n",
       "      <td>0.4</td>\n",
       "    </tr>\n",
       "    <tr>\n",
       "      <th>1</th>\n",
       "      <td>3</td>\n",
       "      <td>0.6</td>\n",
       "    </tr>\n",
       "    <tr>\n",
       "      <th>2</th>\n",
       "      <td>7</td>\n",
       "      <td>0.8</td>\n",
       "    </tr>\n",
       "    <tr>\n",
       "      <th>3</th>\n",
       "      <td>14</td>\n",
       "      <td>1.1</td>\n",
       "    </tr>\n",
       "    <tr>\n",
       "      <th>4</th>\n",
       "      <td>21</td>\n",
       "      <td>1.3</td>\n",
       "    </tr>\n",
       "    <tr>\n",
       "      <th>5</th>\n",
       "      <td>30</td>\n",
       "      <td>1.4</td>\n",
       "    </tr>\n",
       "  </tbody>\n",
       "</table>\n",
       "</div>"
      ],
      "text/plain": [
       "   day  retained\n",
       "0    1       0.4\n",
       "1    3       0.6\n",
       "2    7       0.8\n",
       "3   14       1.1\n",
       "4   21       1.3\n",
       "5   30       1.4"
      ]
     },
     "execution_count": 53,
     "metadata": {},
     "output_type": "execute_result"
    }
   ],
   "source": [
    "df = pd.DataFrame({'day': [1,3,7,14,21,30],\n",
    "                   'retained': [0.4,0.6,0.8,1.10,1.30,1.40]})\n",
    "df.head(6)"
   ]
  },
  {
   "cell_type": "code",
   "execution_count": 56,
   "id": "dad941d4",
   "metadata": {},
   "outputs": [
    {
     "data": {
      "image/png": "[encoded data removed]",
      "text/plain": [
       "<Figure size 490x350 with 1 Axes>"
      ]
     },
     "metadata": {},
     "output_type": "display_data"
    }
   ],
   "source": [
    "# задаем аппроксимирующую логарифмияескую функцию\n",
    "def log_func( x, a, b, c ):\n",
    "    return -a * np.log2( b + x ) + c\n",
    "\n",
    "# задаем аппроксимирующую экспоненциальную функцию\n",
    "def exp_func( x, a, b, c ):\n",
    "    return a * np.exp( -b * x ) + c\n",
    "\n",
    "# подбираем оптимальные параметры логарифмияеской функции\n",
    "from scipy.optimize import curve_fit\n",
    "log_popt, log_pcov = curve_fit(log_func, df['day'], df['retained'])\n",
    "\n",
    "# подбираем оптимальные параметры экспоненциальной функции\n",
    "exp_popt, exp_pcov = curve_fit(exp_func, df['day'], df['retained'])\n",
    "\n",
    "# задаем точку прогноза - сколько денег будет на 90й день\n",
    "projection_endpoint = 90\n",
    "\n",
    "# задаем значения функции x с помощью метода np.arange и параметры подобранной кривой\n",
    "log_y_projected = log_func( np.arange( projection_endpoint ), *log_popt )\n",
    "exp_y_projected = exp_func( np.arange( projection_endpoint ), *exp_popt )\n",
    "\n",
    "# смотрим график исходных данных и полученных кривых\n",
    "import matplotlib.pyplot as plt\n",
    "from matplotlib.pyplot import figure\n",
    "plt.figure(num=None, figsize=(7, 5), dpi=70, facecolor='w', edgecolor='k')\n",
    "plt.scatter(df['day'], df['retained'], label=\"Original Data\" )\n",
    "plt.plot( log_y_projected, label=\"Log Function Projections\" )\n",
    "plt.plot( exp_y_projected, label=\"Exp Function Projections\" )\n",
    "plt.legend()\n",
    "plt.show()"
   ]
  },
  {
   "cell_type": "code",
   "execution_count": null,
   "id": "bfda0c81",
   "metadata": {},
   "outputs": [],
   "source": [
    "# делаем прогноз удержанных пользователей сайта на 90й день\n",
    "print('Прогноз денег от пользователя через 90 дней по log модели', round(log_y_projected[89],0))\n",
    "print('Прогноз денег от пользователя через 90 дней по exp модели', round(exp_y_projected[89],0))"
   ]
  },
  {
   "cell_type": "code",
   "execution_count": null,
   "id": "e6fb8f31",
   "metadata": {},
   "outputs": [],
   "source": [
    "#Вывод: логарифмическая модель отображает улучшенный прогноз по покупательской способности пользователей"
   ]
  }
 ],
 "metadata": {
  "kernelspec": {
   "display_name": "Python 3 (ipykernel)",
   "language": "python",
   "name": "python3"
  },
  "language_info": {
   "codemirror_mode": {
    "name": "ipython",
    "version": 3
   },
   "file_extension": ".py",
   "mimetype": "text/x-python",
   "name": "python",
   "nbconvert_exporter": "python",
   "pygments_lexer": "ipython3",
   "version": "3.8.5"
  }
 },
 "nbformat": 4,
 "nbformat_minor": 5
}
