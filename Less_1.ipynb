{
 "cells": [
  {
   "cell_type": "code",
   "execution_count": 2,
   "id": "e8acfd5e",
   "metadata": {},
   "outputs": [
    {
     "name": "stdout",
     "output_type": "stream",
     "text": [
      "Python_Lesson_1\n",
      "\n",
      "task_1\n",
      "Написать цикл для выведения на экран каждой буквы своего ФИО.\n",
      "-----------------------------------------------------------------------------\n"
     ]
    }
   ],
   "source": [
    "print('Python_Lesson_1')\n",
    "\n",
    "print('\\ntask_1')\n",
    "print('Написать цикл для выведения на экран каждой буквы своего ФИО.')\n",
    "print('-' * 77)"
   ]
  },
  {
   "cell_type": "code",
   "execution_count": 8,
   "id": "9c711c35",
   "metadata": {},
   "outputs": [
    {
     "name": "stdout",
     "output_type": "stream",
     "text": [
      "Л и т е ц к а я   А н а с т а с и я   А н а т о л ь е в н а "
     ]
    }
   ],
   "source": [
    "for name in 'Литецкая Анастасия Анатольевна':\n",
    "    print(name, end=' ')"
   ]
  },
  {
   "cell_type": "code",
   "execution_count": 11,
   "id": "41d7c20a",
   "metadata": {},
   "outputs": [
    {
     "name": "stdout",
     "output_type": "stream",
     "text": [
      "\n",
      "task_2\n",
      "Написать функцию для перевода доллара в евро c округлением до 2х знаков после запятой, если известно, что текущий курс составляет 1.17 долларов за один евро.\n",
      "-----------------------------------------------------------------------------\n"
     ]
    }
   ],
   "source": [
    "print('\\ntask_2')\n",
    "print('Написать функцию для перевода доллара в евро c округлением до 2х знаков после запятой, если известно, что текущий курс составляет 1.17 долларов за один евро.')\n",
    "print('-' * 77)"
   ]
  },
  {
   "cell_type": "code",
   "execution_count": 46,
   "id": "d91e96eb",
   "metadata": {},
   "outputs": [
    {
     "data": {
      "text/plain": [
       "1.17"
      ]
     },
     "execution_count": 46,
     "metadata": {},
     "output_type": "execute_result"
    }
   ],
   "source": [
    "def cross(doll, eur):\n",
    "    return doll / eur\n",
    "round(cross(1.17,1), 2)"
   ]
  },
  {
   "cell_type": "code",
   "execution_count": null,
   "id": "7b93d15b",
   "metadata": {},
   "outputs": [],
   "source": []
  }
 ],
 "metadata": {
  "kernelspec": {
   "display_name": "Python 3 (ipykernel)",
   "language": "python",
   "name": "python3"
  },
  "language_info": {
   "codemirror_mode": {
    "name": "ipython",
    "version": 3
   },
   "file_extension": ".py",
   "mimetype": "text/x-python",
   "name": "python",
   "nbconvert_exporter": "python",
   "pygments_lexer": "ipython3",
   "version": "3.8.5"
  }
 },
 "nbformat": 4,
 "nbformat_minor": 5
}
