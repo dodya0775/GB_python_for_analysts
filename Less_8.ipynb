{
 "cells": [
  {
   "cell_type": "code",
   "execution_count": null,
   "id": "3a09ca55",
   "metadata": {},
   "outputs": [],
   "source": [
    "print(\"\"\"Урок 8. Повышение качества предиктивных моделей. Feature Engineering\n",
    "Выполните итоговый проект:\n",
    "1. Скачать данные о рынке недвижимости c открытого соревнования Сбербанка по машинному обучению https://www.kaggle.com/c/sberbank-russian-housing-market/data. Скачиваем только файлы train.csv.zip, macro.csv.zip и сливаем в один датафрейм. Описание колонок - data_dictionary.txt\n",
    "2. Провести чистку данных (пропуски данных, неинформативные признаки, аномалии, оцифровка текстовых столбцов и т.п.)\n",
    "3. Провести Exploratory Data Analysis. Проанализировать переменные, влияющие на зависимую переменную - стоимость недвижимости price_doc.\n",
    "4. Разделить датасет на обучающие и тестовую выборки.\n",
    "5. Обучить регрессионную модель предсказывать стоимость недвижимости в зависимости от разных факторов и выявить показатели качества модели на обучающей и тестовой выборке.\n",
    "6. Реализовать методы feature engineering с целью повышения метрик качества модели.\"\"\")\n",
    "print('-' * 77)"
   ]
  },
  {
   "cell_type": "code",
   "execution_count": 85,
   "id": "d55e719b",
   "metadata": {},
   "outputs": [],
   "source": [
    "from matplotlib import pyplot as plt\n",
    "%matplotlib inline\n",
    "import seaborn as sns\n",
    "import pandas as pd\n",
    "import numpy as np\n",
    "from sklearn.model_selection import train_test_split as tts\n",
    "from sklearn.preprocessing import LabelEncoder\n",
    "from sklearn.linear_model import LogisticRegression\n",
    "from sklearn.ensemble import RandomForestClassifier\n",
    "from sklearn.feature_selection import SelectFromModel\n",
    "from sklearn.ensemble import ExtraTreesClassifier\n",
    "from sklearn.feature_selection import SelectKBest\n",
    "from sklearn.feature_selection import chi2\n",
    "from sklearn.utils import shuffle"
   ]
  },
  {
   "cell_type": "code",
   "execution_count": 4,
   "id": "ad0a7551",
   "metadata": {},
   "outputs": [
    {
     "data": {
      "text/html": [
       "<div>\n",
       "<style scoped>\n",
       "    .dataframe tbody tr th:only-of-type {\n",
       "        vertical-align: middle;\n",
       "    }\n",
       "\n",
       "    .dataframe tbody tr th {\n",
       "        vertical-align: top;\n",
       "    }\n",
       "\n",
       "    .dataframe thead th {\n",
       "        text-align: right;\n",
       "    }\n",
       "</style>\n",
       "<table border=\"1\" class=\"dataframe\">\n",
       "  <thead>\n",
       "    <tr style=\"text-align: right;\">\n",
       "      <th></th>\n",
       "      <th>timestamp</th>\n",
       "      <th>oil_urals</th>\n",
       "      <th>gdp_quart</th>\n",
       "      <th>gdp_quart_growth</th>\n",
       "      <th>cpi</th>\n",
       "      <th>ppi</th>\n",
       "      <th>gdp_deflator</th>\n",
       "      <th>balance_trade</th>\n",
       "      <th>balance_trade_growth</th>\n",
       "      <th>usdrub</th>\n",
       "      <th>...</th>\n",
       "      <th>provision_retail_space_modern_sqm</th>\n",
       "      <th>turnover_catering_per_cap</th>\n",
       "      <th>theaters_viewers_per_1000_cap</th>\n",
       "      <th>seats_theather_rfmin_per_100000_cap</th>\n",
       "      <th>museum_visitis_per_100_cap</th>\n",
       "      <th>bandwidth_sports</th>\n",
       "      <th>population_reg_sports_share</th>\n",
       "      <th>students_reg_sports_share</th>\n",
       "      <th>apartment_build</th>\n",
       "      <th>apartment_fund_sqm</th>\n",
       "    </tr>\n",
       "  </thead>\n",
       "  <tbody>\n",
       "    <tr>\n",
       "      <th>0</th>\n",
       "      <td>2010-01-01</td>\n",
       "      <td>76.1</td>\n",
       "      <td>NaN</td>\n",
       "      <td>NaN</td>\n",
       "      <td>NaN</td>\n",
       "      <td>NaN</td>\n",
       "      <td>NaN</td>\n",
       "      <td>NaN</td>\n",
       "      <td>NaN</td>\n",
       "      <td>NaN</td>\n",
       "      <td>...</td>\n",
       "      <td>690.0</td>\n",
       "      <td>6221.0</td>\n",
       "      <td>527.0</td>\n",
       "      <td>0.41</td>\n",
       "      <td>993.0</td>\n",
       "      <td>NaN</td>\n",
       "      <td>NaN</td>\n",
       "      <td>63.03</td>\n",
       "      <td>22825.0</td>\n",
       "      <td>NaN</td>\n",
       "    </tr>\n",
       "    <tr>\n",
       "      <th>1</th>\n",
       "      <td>2010-01-02</td>\n",
       "      <td>76.1</td>\n",
       "      <td>NaN</td>\n",
       "      <td>NaN</td>\n",
       "      <td>NaN</td>\n",
       "      <td>NaN</td>\n",
       "      <td>NaN</td>\n",
       "      <td>NaN</td>\n",
       "      <td>NaN</td>\n",
       "      <td>NaN</td>\n",
       "      <td>...</td>\n",
       "      <td>690.0</td>\n",
       "      <td>6221.0</td>\n",
       "      <td>527.0</td>\n",
       "      <td>0.41</td>\n",
       "      <td>993.0</td>\n",
       "      <td>NaN</td>\n",
       "      <td>NaN</td>\n",
       "      <td>63.03</td>\n",
       "      <td>22825.0</td>\n",
       "      <td>NaN</td>\n",
       "    </tr>\n",
       "    <tr>\n",
       "      <th>2</th>\n",
       "      <td>2010-01-03</td>\n",
       "      <td>76.1</td>\n",
       "      <td>NaN</td>\n",
       "      <td>NaN</td>\n",
       "      <td>NaN</td>\n",
       "      <td>NaN</td>\n",
       "      <td>NaN</td>\n",
       "      <td>NaN</td>\n",
       "      <td>NaN</td>\n",
       "      <td>NaN</td>\n",
       "      <td>...</td>\n",
       "      <td>690.0</td>\n",
       "      <td>6221.0</td>\n",
       "      <td>527.0</td>\n",
       "      <td>0.41</td>\n",
       "      <td>993.0</td>\n",
       "      <td>NaN</td>\n",
       "      <td>NaN</td>\n",
       "      <td>63.03</td>\n",
       "      <td>22825.0</td>\n",
       "      <td>NaN</td>\n",
       "    </tr>\n",
       "    <tr>\n",
       "      <th>3</th>\n",
       "      <td>2010-01-04</td>\n",
       "      <td>76.1</td>\n",
       "      <td>NaN</td>\n",
       "      <td>NaN</td>\n",
       "      <td>NaN</td>\n",
       "      <td>NaN</td>\n",
       "      <td>NaN</td>\n",
       "      <td>NaN</td>\n",
       "      <td>NaN</td>\n",
       "      <td>29.905</td>\n",
       "      <td>...</td>\n",
       "      <td>690.0</td>\n",
       "      <td>6221.0</td>\n",
       "      <td>527.0</td>\n",
       "      <td>0.41</td>\n",
       "      <td>993.0</td>\n",
       "      <td>NaN</td>\n",
       "      <td>NaN</td>\n",
       "      <td>63.03</td>\n",
       "      <td>22825.0</td>\n",
       "      <td>NaN</td>\n",
       "    </tr>\n",
       "    <tr>\n",
       "      <th>4</th>\n",
       "      <td>2010-01-05</td>\n",
       "      <td>76.1</td>\n",
       "      <td>NaN</td>\n",
       "      <td>NaN</td>\n",
       "      <td>NaN</td>\n",
       "      <td>NaN</td>\n",
       "      <td>NaN</td>\n",
       "      <td>NaN</td>\n",
       "      <td>NaN</td>\n",
       "      <td>29.836</td>\n",
       "      <td>...</td>\n",
       "      <td>690.0</td>\n",
       "      <td>6221.0</td>\n",
       "      <td>527.0</td>\n",
       "      <td>0.41</td>\n",
       "      <td>993.0</td>\n",
       "      <td>NaN</td>\n",
       "      <td>NaN</td>\n",
       "      <td>63.03</td>\n",
       "      <td>22825.0</td>\n",
       "      <td>NaN</td>\n",
       "    </tr>\n",
       "  </tbody>\n",
       "</table>\n",
       "<p>5 rows × 100 columns</p>\n",
       "</div>"
      ],
      "text/plain": [
       "    timestamp  oil_urals  gdp_quart  gdp_quart_growth  cpi  ppi  gdp_deflator  \\\n",
       "0  2010-01-01       76.1        NaN               NaN  NaN  NaN           NaN   \n",
       "1  2010-01-02       76.1        NaN               NaN  NaN  NaN           NaN   \n",
       "2  2010-01-03       76.1        NaN               NaN  NaN  NaN           NaN   \n",
       "3  2010-01-04       76.1        NaN               NaN  NaN  NaN           NaN   \n",
       "4  2010-01-05       76.1        NaN               NaN  NaN  NaN           NaN   \n",
       "\n",
       "   balance_trade  balance_trade_growth  usdrub  ...  \\\n",
       "0            NaN                   NaN     NaN  ...   \n",
       "1            NaN                   NaN     NaN  ...   \n",
       "2            NaN                   NaN     NaN  ...   \n",
       "3            NaN                   NaN  29.905  ...   \n",
       "4            NaN                   NaN  29.836  ...   \n",
       "\n",
       "   provision_retail_space_modern_sqm  turnover_catering_per_cap  \\\n",
       "0                              690.0                     6221.0   \n",
       "1                              690.0                     6221.0   \n",
       "2                              690.0                     6221.0   \n",
       "3                              690.0                     6221.0   \n",
       "4                              690.0                     6221.0   \n",
       "\n",
       "   theaters_viewers_per_1000_cap  seats_theather_rfmin_per_100000_cap  \\\n",
       "0                          527.0                                 0.41   \n",
       "1                          527.0                                 0.41   \n",
       "2                          527.0                                 0.41   \n",
       "3                          527.0                                 0.41   \n",
       "4                          527.0                                 0.41   \n",
       "\n",
       "   museum_visitis_per_100_cap  bandwidth_sports  population_reg_sports_share  \\\n",
       "0                       993.0               NaN                          NaN   \n",
       "1                       993.0               NaN                          NaN   \n",
       "2                       993.0               NaN                          NaN   \n",
       "3                       993.0               NaN                          NaN   \n",
       "4                       993.0               NaN                          NaN   \n",
       "\n",
       "   students_reg_sports_share  apartment_build  apartment_fund_sqm  \n",
       "0                      63.03          22825.0                 NaN  \n",
       "1                      63.03          22825.0                 NaN  \n",
       "2                      63.03          22825.0                 NaN  \n",
       "3                      63.03          22825.0                 NaN  \n",
       "4                      63.03          22825.0                 NaN  \n",
       "\n",
       "[5 rows x 100 columns]"
      ]
     },
     "execution_count": 4,
     "metadata": {},
     "output_type": "execute_result"
    }
   ],
   "source": [
    "macro = pd.read_csv('macro.csv.zip')\n",
    "macro.head()"
   ]
  },
  {
   "cell_type": "code",
   "execution_count": 5,
   "id": "2eaa235b",
   "metadata": {},
   "outputs": [
    {
     "data": {
      "text/plain": [
       "['train.csv', '__MACOSX/', '__MACOSX/._train.csv']"
      ]
     },
     "execution_count": 5,
     "metadata": {},
     "output_type": "execute_result"
    }
   ],
   "source": [
    "import zipfile\n",
    "z = zipfile.ZipFile('train.csv.zip')\n",
    "\n",
    "z.namelist()"
   ]
  },
  {
   "cell_type": "code",
   "execution_count": 6,
   "id": "4e05bd4f",
   "metadata": {},
   "outputs": [
    {
     "data": {
      "text/html": [
       "<div>\n",
       "<style scoped>\n",
       "    .dataframe tbody tr th:only-of-type {\n",
       "        vertical-align: middle;\n",
       "    }\n",
       "\n",
       "    .dataframe tbody tr th {\n",
       "        vertical-align: top;\n",
       "    }\n",
       "\n",
       "    .dataframe thead th {\n",
       "        text-align: right;\n",
       "    }\n",
       "</style>\n",
       "<table border=\"1\" class=\"dataframe\">\n",
       "  <thead>\n",
       "    <tr style=\"text-align: right;\">\n",
       "      <th></th>\n",
       "      <th>id</th>\n",
       "      <th>timestamp</th>\n",
       "      <th>full_sq</th>\n",
       "      <th>life_sq</th>\n",
       "      <th>floor</th>\n",
       "      <th>max_floor</th>\n",
       "      <th>material</th>\n",
       "      <th>build_year</th>\n",
       "      <th>num_room</th>\n",
       "      <th>kitch_sq</th>\n",
       "      <th>...</th>\n",
       "      <th>cafe_count_5000_price_2500</th>\n",
       "      <th>cafe_count_5000_price_4000</th>\n",
       "      <th>cafe_count_5000_price_high</th>\n",
       "      <th>big_church_count_5000</th>\n",
       "      <th>church_count_5000</th>\n",
       "      <th>mosque_count_5000</th>\n",
       "      <th>leisure_count_5000</th>\n",
       "      <th>sport_count_5000</th>\n",
       "      <th>market_count_5000</th>\n",
       "      <th>price_doc</th>\n",
       "    </tr>\n",
       "  </thead>\n",
       "  <tbody>\n",
       "    <tr>\n",
       "      <th>0</th>\n",
       "      <td>1</td>\n",
       "      <td>2011-08-20</td>\n",
       "      <td>43</td>\n",
       "      <td>27.0</td>\n",
       "      <td>4.0</td>\n",
       "      <td>NaN</td>\n",
       "      <td>NaN</td>\n",
       "      <td>NaN</td>\n",
       "      <td>NaN</td>\n",
       "      <td>NaN</td>\n",
       "      <td>...</td>\n",
       "      <td>9</td>\n",
       "      <td>4</td>\n",
       "      <td>0</td>\n",
       "      <td>13</td>\n",
       "      <td>22</td>\n",
       "      <td>1</td>\n",
       "      <td>0</td>\n",
       "      <td>52</td>\n",
       "      <td>4</td>\n",
       "      <td>5850000</td>\n",
       "    </tr>\n",
       "    <tr>\n",
       "      <th>1</th>\n",
       "      <td>2</td>\n",
       "      <td>2011-08-23</td>\n",
       "      <td>34</td>\n",
       "      <td>19.0</td>\n",
       "      <td>3.0</td>\n",
       "      <td>NaN</td>\n",
       "      <td>NaN</td>\n",
       "      <td>NaN</td>\n",
       "      <td>NaN</td>\n",
       "      <td>NaN</td>\n",
       "      <td>...</td>\n",
       "      <td>15</td>\n",
       "      <td>3</td>\n",
       "      <td>0</td>\n",
       "      <td>15</td>\n",
       "      <td>29</td>\n",
       "      <td>1</td>\n",
       "      <td>10</td>\n",
       "      <td>66</td>\n",
       "      <td>14</td>\n",
       "      <td>6000000</td>\n",
       "    </tr>\n",
       "    <tr>\n",
       "      <th>2</th>\n",
       "      <td>3</td>\n",
       "      <td>2011-08-27</td>\n",
       "      <td>43</td>\n",
       "      <td>29.0</td>\n",
       "      <td>2.0</td>\n",
       "      <td>NaN</td>\n",
       "      <td>NaN</td>\n",
       "      <td>NaN</td>\n",
       "      <td>NaN</td>\n",
       "      <td>NaN</td>\n",
       "      <td>...</td>\n",
       "      <td>10</td>\n",
       "      <td>3</td>\n",
       "      <td>0</td>\n",
       "      <td>11</td>\n",
       "      <td>27</td>\n",
       "      <td>0</td>\n",
       "      <td>4</td>\n",
       "      <td>67</td>\n",
       "      <td>10</td>\n",
       "      <td>5700000</td>\n",
       "    </tr>\n",
       "    <tr>\n",
       "      <th>3</th>\n",
       "      <td>4</td>\n",
       "      <td>2011-09-01</td>\n",
       "      <td>89</td>\n",
       "      <td>50.0</td>\n",
       "      <td>9.0</td>\n",
       "      <td>NaN</td>\n",
       "      <td>NaN</td>\n",
       "      <td>NaN</td>\n",
       "      <td>NaN</td>\n",
       "      <td>NaN</td>\n",
       "      <td>...</td>\n",
       "      <td>11</td>\n",
       "      <td>2</td>\n",
       "      <td>1</td>\n",
       "      <td>4</td>\n",
       "      <td>4</td>\n",
       "      <td>0</td>\n",
       "      <td>0</td>\n",
       "      <td>26</td>\n",
       "      <td>3</td>\n",
       "      <td>13100000</td>\n",
       "    </tr>\n",
       "    <tr>\n",
       "      <th>4</th>\n",
       "      <td>5</td>\n",
       "      <td>2011-09-05</td>\n",
       "      <td>77</td>\n",
       "      <td>77.0</td>\n",
       "      <td>4.0</td>\n",
       "      <td>NaN</td>\n",
       "      <td>NaN</td>\n",
       "      <td>NaN</td>\n",
       "      <td>NaN</td>\n",
       "      <td>NaN</td>\n",
       "      <td>...</td>\n",
       "      <td>319</td>\n",
       "      <td>108</td>\n",
       "      <td>17</td>\n",
       "      <td>135</td>\n",
       "      <td>236</td>\n",
       "      <td>2</td>\n",
       "      <td>91</td>\n",
       "      <td>195</td>\n",
       "      <td>14</td>\n",
       "      <td>16331452</td>\n",
       "    </tr>\n",
       "  </tbody>\n",
       "</table>\n",
       "<p>5 rows × 292 columns</p>\n",
       "</div>"
      ],
      "text/plain": [
       "   id   timestamp  full_sq  life_sq  floor  max_floor  material  build_year  \\\n",
       "0   1  2011-08-20       43     27.0    4.0        NaN       NaN         NaN   \n",
       "1   2  2011-08-23       34     19.0    3.0        NaN       NaN         NaN   \n",
       "2   3  2011-08-27       43     29.0    2.0        NaN       NaN         NaN   \n",
       "3   4  2011-09-01       89     50.0    9.0        NaN       NaN         NaN   \n",
       "4   5  2011-09-05       77     77.0    4.0        NaN       NaN         NaN   \n",
       "\n",
       "   num_room  kitch_sq  ...  cafe_count_5000_price_2500  \\\n",
       "0       NaN       NaN  ...                           9   \n",
       "1       NaN       NaN  ...                          15   \n",
       "2       NaN       NaN  ...                          10   \n",
       "3       NaN       NaN  ...                          11   \n",
       "4       NaN       NaN  ...                         319   \n",
       "\n",
       "  cafe_count_5000_price_4000 cafe_count_5000_price_high  \\\n",
       "0                          4                          0   \n",
       "1                          3                          0   \n",
       "2                          3                          0   \n",
       "3                          2                          1   \n",
       "4                        108                         17   \n",
       "\n",
       "   big_church_count_5000  church_count_5000  mosque_count_5000  \\\n",
       "0                     13                 22                  1   \n",
       "1                     15                 29                  1   \n",
       "2                     11                 27                  0   \n",
       "3                      4                  4                  0   \n",
       "4                    135                236                  2   \n",
       "\n",
       "   leisure_count_5000  sport_count_5000  market_count_5000  price_doc  \n",
       "0                   0                52                  4    5850000  \n",
       "1                  10                66                 14    6000000  \n",
       "2                   4                67                 10    5700000  \n",
       "3                   0                26                  3   13100000  \n",
       "4                  91               195                 14   16331452  \n",
       "\n",
       "[5 rows x 292 columns]"
      ]
     },
     "execution_count": 6,
     "metadata": {},
     "output_type": "execute_result"
    }
   ],
   "source": [
    "data = pd.read_csv(z.open('train.csv'))\n",
    "data.head()"
   ]
  },
  {
   "cell_type": "code",
   "execution_count": 7,
   "id": "9e0ec064",
   "metadata": {},
   "outputs": [
    {
     "data": {
      "text/plain": [
       "(30471, 391)"
      ]
     },
     "execution_count": 7,
     "metadata": {},
     "output_type": "execute_result"
    }
   ],
   "source": [
    "# склеиваем датафреймы\n",
    "\n",
    "macro['timestamp'] = pd.to_datetime(macro['timestamp'])\n",
    "data['timestamp'] = pd.to_datetime(data['timestamp'])\n",
    "\n",
    "df = data.merge(macro, on = 'timestamp', how = 'inner')\n",
    "df.shape"
   ]
  },
  {
   "cell_type": "code",
   "execution_count": 9,
   "id": "889f7dfb",
   "metadata": {},
   "outputs": [
    {
     "data": {
      "text/plain": [
       "provision_retail_space_modern_sqm             0.975288\n",
       "provision_retail_space_sqm                    0.816481\n",
       "students_reg_sports_share                     0.554659\n",
       "load_of_teachers_preschool_per_teacher        0.554659\n",
       "theaters_viewers_per_1000_cap                 0.554659\n",
       "museum_visitis_per_100_cap                    0.554659\n",
       "hospital_beds_raion                           0.473926\n",
       "build_year                                    0.446490\n",
       "state                                         0.444980\n",
       "cafe_avg_price_500                            0.435857\n",
       "cafe_sum_500_max_price_avg                    0.435857\n",
       "cafe_sum_500_min_price_avg                    0.435857\n",
       "num_room                                      0.314135\n",
       "kitch_sq                                      0.314135\n",
       "material                                      0.314135\n",
       "max_floor                                     0.314135\n",
       "preschool_quota                               0.219487\n",
       "school_quota                                  0.219389\n",
       "cafe_sum_1000_max_price_avg                   0.214105\n",
       "cafe_sum_1000_min_price_avg                   0.214105\n",
       "cafe_avg_price_1000                           0.214105\n",
       "life_sq                                       0.209478\n",
       "old_education_build_share                     0.183519\n",
       "modern_education_share                        0.183519\n",
       "build_count_frame                             0.163795\n",
       "build_count_panel                             0.163795\n",
       "build_count_wood                              0.163795\n",
       "build_count_block                             0.163795\n",
       "build_count_monolith                          0.163795\n",
       "raion_build_count_with_material_info          0.163795\n",
       "build_count_brick                             0.163795\n",
       "build_count_slag                              0.163795\n",
       "build_count_1971-1995                         0.163795\n",
       "build_count_before_1920                       0.163795\n",
       "build_count_after_1995                        0.163795\n",
       "build_count_foam                              0.163795\n",
       "build_count_1946-1970                         0.163795\n",
       "build_count_1921-1945                         0.163795\n",
       "build_count_mix                               0.163795\n",
       "raion_build_count_with_builddate_info         0.163795\n",
       "cafe_avg_price_1500                           0.137803\n",
       "cafe_sum_1500_min_price_avg                   0.137803\n",
       "cafe_sum_1500_max_price_avg                   0.137803\n",
       "real_dispos_income_per_cap_growth             0.106298\n",
       "share_own_revenues                            0.106298\n",
       "overdue_wages_per_cap                         0.106298\n",
       "fin_res_per_cap                               0.106298\n",
       "marriages_per_1000_cap                        0.106298\n",
       "divorce_rate                                  0.106298\n",
       "construction_value                            0.106298\n",
       "invest_fixed_assets_phys                      0.106298\n",
       "housing_fund_sqm                              0.106298\n",
       "pop_migration                                 0.106298\n",
       "pop_total_inc                                 0.106298\n",
       "incidence_population                          0.106298\n",
       "lodging_sqm_per_cap                           0.106298\n",
       "infant_mortarity_per_1000_cap                 0.106298\n",
       "apartment_build                               0.106298\n",
       "population_reg_sports_share                   0.106298\n",
       "hospital_bed_occupancy_per_year               0.106298\n",
       "hospital_beds_available_per_cap               0.106298\n",
       "power_clinics                                 0.106298\n",
       "provision_doctors                             0.106298\n",
       "child_on_acc_pre_school                       0.106298\n",
       "grp                                           0.106298\n",
       "profitable_enterpr_share                      0.106298\n",
       "perinatal_mort_per_1000_cap                   0.106298\n",
       "grp_growth                                    0.106298\n",
       "unprofitable_enterpr_share                    0.106298\n",
       "sewerage_share                                0.106298\n",
       "heating_share                                 0.106298\n",
       "water_pipes_share                             0.106298\n",
       "electric_stove_share                          0.106298\n",
       "baths_share                                   0.106298\n",
       "hot_water_share                               0.106298\n",
       "old_house_share                               0.106298\n",
       "gas_share                                     0.106298\n",
       "cafe_avg_price_2000                           0.056611\n",
       "cafe_sum_2000_min_price_avg                   0.056611\n",
       "cafe_sum_2000_max_price_avg                   0.056611\n",
       "cafe_sum_3000_max_price_avg                   0.032523\n",
       "cafe_sum_3000_min_price_avg                   0.032523\n",
       "cafe_avg_price_3000                           0.032523\n",
       "cafe_sum_5000_min_price_avg                   0.009747\n",
       "cafe_sum_5000_max_price_avg                   0.009747\n",
       "cafe_avg_price_5000                           0.009747\n",
       "prom_part_5000                                0.005842\n",
       "floor                                         0.005481\n",
       "railroad_station_walk_min                     0.000820\n",
       "metro_km_walk                                 0.000820\n",
       "metro_min_walk                                0.000820\n",
       "ID_railroad_station_walk                      0.000820\n",
       "railroad_station_walk_km                      0.000820\n",
       "cafe_count_2000_price_500                     0.000000\n",
       "market_count_1500                             0.000000\n",
       "church_count_3000                             0.000000\n",
       "big_church_count_3000                         0.000000\n",
       "cafe_count_3000_price_high                    0.000000\n",
       "cafe_count_3000_price_4000                    0.000000\n",
       "leisure_count_1500                            0.000000\n",
       "cafe_count_3000_price_2500                    0.000000\n",
       "cafe_count_3000_price_1500                    0.000000\n",
       "cafe_count_3000_price_1000                    0.000000\n",
       "cafe_count_3000_price_500                     0.000000\n",
       "sport_count_1500                              0.000000\n",
       "sport_count_3000                              0.000000\n",
       "mosque_count_3000                             0.000000\n",
       "leisure_count_3000                            0.000000\n",
       "green_part_2000                               0.000000\n",
       "market_count_3000                             0.000000\n",
       "green_part_5000                               0.000000\n",
       "office_count_5000                             0.000000\n",
       "office_sqm_5000                               0.000000\n",
       "trc_count_5000                                0.000000\n",
       "trc_sqm_5000                                  0.000000\n",
       "cafe_count_5000                               0.000000\n",
       "mosque_count_1500                             0.000000\n",
       "cafe_count_3000_na_price                      0.000000\n",
       "cafe_count_3000                               0.000000\n",
       "prom_part_2000                                0.000000\n",
       "office_count_2000                             0.000000\n",
       "cafe_count_2000_price_1000                    0.000000\n",
       "cafe_count_2000_price_1500                    0.000000\n",
       "cafe_count_2000_price_2500                    0.000000\n",
       "cafe_count_2000_price_4000                    0.000000\n",
       "cafe_count_2000_price_high                    0.000000\n",
       "big_church_count_2000                         0.000000\n",
       "church_count_2000                             0.000000\n",
       "mosque_count_2000                             0.000000\n",
       "leisure_count_2000                            0.000000\n",
       "sport_count_2000                              0.000000\n",
       "cafe_count_5000_na_price                      0.000000\n",
       "cafe_count_2000_na_price                      0.000000\n",
       "cafe_count_2000                               0.000000\n",
       "trc_sqm_2000                                  0.000000\n",
       "trc_count_2000                                0.000000\n",
       "office_sqm_2000                               0.000000\n",
       "market_count_2000                             0.000000\n",
       "green_part_3000                               0.000000\n",
       "prom_part_3000                                0.000000\n",
       "office_count_3000                             0.000000\n",
       "office_sqm_3000                               0.000000\n",
       "trc_count_3000                                0.000000\n",
       "trc_sqm_3000                                  0.000000\n",
       "id                                            0.000000\n",
       "mortgage_value                                0.000000\n",
       "cafe_count_5000_price_500                     0.000000\n",
       "retail_trade_turnover_per_cap                 0.000000\n",
       "invest_fixed_assets                           0.000000\n",
       "invest_fixed_capital_per_cap                  0.000000\n",
       "employment                                    0.000000\n",
       "unemployment                                  0.000000\n",
       "labor_force                                   0.000000\n",
       "retail_trade_turnover_growth                  0.000000\n",
       "retail_trade_turnover                         0.000000\n",
       "childbirth                                    0.000000\n",
       "fixed_basket                                  0.000000\n",
       "salary_growth                                 0.000000\n",
       "salary                                        0.000000\n",
       "income_per_cap                                0.000000\n",
       "mortgage_rate                                 0.000000\n",
       "mortgage_growth                               0.000000\n",
       "pop_natural_increase                          0.000000\n",
       "mortality                                     0.000000\n",
       "cafe_count_5000_price_1000                    0.000000\n",
       "load_of_teachers_school_per_teacher           0.000000\n",
       "bandwidth_sports                              0.000000\n",
       "seats_theather_rfmin_per_100000_cap           0.000000\n",
       "turnover_catering_per_cap                     0.000000\n",
       "load_on_doctors                               0.000000\n",
       "provision_nurse                               0.000000\n",
       "students_state_oneshift                       0.000000\n",
       "rent_price_1room_eco                          0.000000\n",
       "average_life_exp                              0.000000\n",
       "rent_price_2room_eco                          0.000000\n",
       "rent_price_3room_eco                          0.000000\n",
       "rent_price_1room_bus                          0.000000\n",
       "rent_price_2room_bus                          0.000000\n",
       "rent_price_3room_bus                          0.000000\n",
       "rent_price_4+room_bus                         0.000000\n",
       "big_church_count_1500                         0.000000\n",
       "deposits_rate                                 0.000000\n",
       "deposits_growth                               0.000000\n",
       "leisure_count_5000                            0.000000\n",
       "gdp_quart_growth                              0.000000\n",
       "gdp_quart                                     0.000000\n",
       "oil_urals                                     0.000000\n",
       "price_doc                                     0.000000\n",
       "market_count_5000                             0.000000\n",
       "sport_count_5000                              0.000000\n",
       "mosque_count_5000                             0.000000\n",
       "deposits_value                                0.000000\n",
       "church_count_5000                             0.000000\n",
       "big_church_count_5000                         0.000000\n",
       "cafe_count_5000_price_high                    0.000000\n",
       "cafe_count_5000_price_4000                    0.000000\n",
       "cafe_count_5000_price_2500                    0.000000\n",
       "cafe_count_5000_price_1500                    0.000000\n",
       "cpi                                           0.000000\n",
       "ppi                                           0.000000\n",
       "gdp_deflator                                  0.000000\n",
       "balance_trade                                 0.000000\n",
       "balance_trade_growth                          0.000000\n",
       "usdrub                                        0.000000\n",
       "eurrub                                        0.000000\n",
       "brent                                         0.000000\n",
       "net_capital_export                            0.000000\n",
       "gdp_annual                                    0.000000\n",
       "gdp_annual_growth                             0.000000\n",
       "average_provision_of_build_contract           0.000000\n",
       "average_provision_of_build_contract_moscow    0.000000\n",
       "rts                                           0.000000\n",
       "micex                                         0.000000\n",
       "micex_rgbi_tr                                 0.000000\n",
       "micex_cbi_tr                                  0.000000\n",
       "church_count_1500                             0.000000\n",
       "mosque_count_1000                             0.000000\n",
       "cafe_count_1500_price_high                    0.000000\n",
       "0_13_male                                     0.000000\n",
       "green_zone_km                                 0.000000\n",
       "park_km                                       0.000000\n",
       "school_km                                     0.000000\n",
       "kindergarten_km                               0.000000\n",
       "metro_km_avto                                 0.000000\n",
       "metro_min_avto                                0.000000\n",
       "ID_metro                                      0.000000\n",
       "0_13_female                                   0.000000\n",
       "0_13_all                                      0.000000\n",
       "water_treatment_km                            0.000000\n",
       "16_29_female                                  0.000000\n",
       "16_29_male                                    0.000000\n",
       "16_29_all                                     0.000000\n",
       "0_17_female                                   0.000000\n",
       "0_17_male                                     0.000000\n",
       "0_17_all                                      0.000000\n",
       "7_14_female                                   0.000000\n",
       "7_14_male                                     0.000000\n",
       "industrial_km                                 0.000000\n",
       "cemetery_km                                   0.000000\n",
       "0_6_female                                    0.000000\n",
       "sadovoe_km                                    0.000000\n",
       "railroad_km                                   0.000000\n",
       "ID_big_road2                                  0.000000\n",
       "big_road2_km                                  0.000000\n",
       "big_road1_1line                               0.000000\n",
       "ID_big_road1                                  0.000000\n",
       "big_road1_km                                  0.000000\n",
       "kremlin_km                                    0.000000\n",
       "bulvar_ring_km                                0.000000\n",
       "ttk_km                                        0.000000\n",
       "incineration_km                               0.000000\n",
       "mkad_km                                       0.000000\n",
       "water_1line                                   0.000000\n",
       "water_km                                      0.000000\n",
       "public_transport_station_min_walk             0.000000\n",
       "public_transport_station_km                   0.000000\n",
       "ID_railroad_station_avto                      0.000000\n",
       "railroad_station_avto_min                     0.000000\n",
       "railroad_station_avto_km                      0.000000\n",
       "7_14_all                                      0.000000\n",
       "0_6_male                                      0.000000\n",
       "cafe_count_1500_price_4000                    0.000000\n",
       "children_school                               0.000000\n",
       "culture_objects_top_25_raion                  0.000000\n",
       "culture_objects_top_25                        0.000000\n",
       "additional_education_raion                    0.000000\n",
       "sport_objects_raion                           0.000000\n",
       "university_top_20_raion                       0.000000\n",
       "healthcare_centers_raion                      0.000000\n",
       "school_education_centers_top_20_raion         0.000000\n",
       "school_education_centers_raion                0.000000\n",
       "preschool_education_centers_raion             0.000000\n",
       "office_raion                                  0.000000\n",
       "children_preschool                            0.000000\n",
       "indust_part                                   0.000000\n",
       "green_zone_part                               0.000000\n",
       "raion_popul                                   0.000000\n",
       "area_m                                        0.000000\n",
       "sub_area                                      0.000000\n",
       "product_type                                  0.000000\n",
       "full_sq                                       0.000000\n",
       "shopping_centers_raion                        0.000000\n",
       "thermal_power_plant_raion                     0.000000\n",
       "0_6_all                                       0.000000\n",
       "young_all                                     0.000000\n",
       "ekder_female                                  0.000000\n",
       "ekder_male                                    0.000000\n",
       "ekder_all                                     0.000000\n",
       "work_female                                   0.000000\n",
       "work_male                                     0.000000\n",
       "work_all                                      0.000000\n",
       "young_female                                  0.000000\n",
       "young_male                                    0.000000\n",
       "female_f                                      0.000000\n",
       "incineration_raion                            0.000000\n",
       "male_f                                        0.000000\n",
       "full_all                                      0.000000\n",
       "detention_facility_raion                      0.000000\n",
       "nuclear_reactor_raion                         0.000000\n",
       "big_market_raion                              0.000000\n",
       "railroad_terminal_raion                       0.000000\n",
       "radiation_raion                               0.000000\n",
       "oil_chemistry_raion                           0.000000\n",
       "railroad_1line                                0.000000\n",
       "zd_vokzaly_avto_km                            0.000000\n",
       "ID_railroad_terminal                          0.000000\n",
       "prom_part_1000                                0.000000\n",
       "cafe_count_1000_price_1000                    0.000000\n",
       "cafe_count_1000_price_500                     0.000000\n",
       "cafe_count_1000_na_price                      0.000000\n",
       "cafe_count_1000                               0.000000\n",
       "trc_sqm_1000                                  0.000000\n",
       "trc_count_1000                                0.000000\n",
       "office_sqm_1000                               0.000000\n",
       "office_count_1000                             0.000000\n",
       "green_part_1000                               0.000000\n",
       "cafe_count_1000_price_2500                    0.000000\n",
       "market_count_500                              0.000000\n",
       "sport_count_500                               0.000000\n",
       "leisure_count_500                             0.000000\n",
       "mosque_count_500                              0.000000\n",
       "church_count_500                              0.000000\n",
       "big_church_count_500                          0.000000\n",
       "cafe_count_500_price_high                     0.000000\n",
       "cafe_count_500_price_4000                     0.000000\n",
       "cafe_count_1000_price_1500                    0.000000\n",
       "cafe_count_1000_price_4000                    0.000000\n",
       "bus_terminal_avto_km                          0.000000\n",
       "office_sqm_1500                               0.000000\n",
       "cafe_count_1500_price_2500                    0.000000\n",
       "cafe_count_1500_price_1500                    0.000000\n",
       "cafe_count_1500_price_1000                    0.000000\n",
       "cafe_count_1500_price_500                     0.000000\n",
       "cafe_count_1500_na_price                      0.000000\n",
       "cafe_count_1500                               0.000000\n",
       "trc_sqm_1500                                  0.000000\n",
       "trc_count_1500                                0.000000\n",
       "office_count_1500                             0.000000\n",
       "cafe_count_1000_price_high                    0.000000\n",
       "prom_part_1500                                0.000000\n",
       "green_part_1500                               0.000000\n",
       "market_count_1000                             0.000000\n",
       "sport_count_1000                              0.000000\n",
       "leisure_count_1000                            0.000000\n",
       "timestamp                                     0.000000\n",
       "church_count_1000                             0.000000\n",
       "big_church_count_1000                         0.000000\n",
       "cafe_count_500_price_2500                     0.000000\n",
       "cafe_count_500_price_1500                     0.000000\n",
       "cafe_count_500_price_1000                     0.000000\n",
       "fitness_km                                    0.000000\n",
       "university_km                                 0.000000\n",
       "public_healthcare_km                          0.000000\n",
       "detention_facility_km                         0.000000\n",
       "hospice_morgue_km                             0.000000\n",
       "basketball_km                                 0.000000\n",
       "stadium_km                                    0.000000\n",
       "ice_rink_km                                   0.000000\n",
       "swim_pool_km                                  0.000000\n",
       "market_shop_km                                0.000000\n",
       "cafe_count_500_price_500                      0.000000\n",
       "big_market_km                                 0.000000\n",
       "ts_km                                         0.000000\n",
       "thermal_power_plant_km                        0.000000\n",
       "power_transmission_line_km                    0.000000\n",
       "radiation_km                                  0.000000\n",
       "nuclear_reactor_km                            0.000000\n",
       "oil_chemistry_km                              0.000000\n",
       "ID_bus_terminal                               0.000000\n",
       "workplaces_km                                 0.000000\n",
       "shopping_centers_km                           0.000000\n",
       "office_km                                     0.000000\n",
       "additional_education_km                       0.000000\n",
       "cafe_count_500_na_price                       0.000000\n",
       "cafe_count_500                                0.000000\n",
       "trc_sqm_500                                   0.000000\n",
       "trc_count_500                                 0.000000\n",
       "office_sqm_500                                0.000000\n",
       "office_count_500                              0.000000\n",
       "prom_part_500                                 0.000000\n",
       "green_part_500                                0.000000\n",
       "ecology                                       0.000000\n",
       "catering_km                                   0.000000\n",
       "exhibition_km                                 0.000000\n",
       "museum_km                                     0.000000\n",
       "theater_km                                    0.000000\n",
       "mosque_km                                     0.000000\n",
       "church_synagogue_km                           0.000000\n",
       "big_church_km                                 0.000000\n",
       "preschool_km                                  0.000000\n",
       "apartment_fund_sqm                            0.000000\n",
       "dtype: float64"
      ]
     },
     "execution_count": 9,
     "metadata": {},
     "output_type": "execute_result"
    }
   ],
   "source": [
    "pd.set_option('display.max_rows', 1000)\n",
    "df.isna().mean().sort_values(ascending = False)"
   ]
  },
  {
   "cell_type": "code",
   "execution_count": 10,
   "id": "6541d427",
   "metadata": {},
   "outputs": [
    {
     "data": {
      "text/plain": [
       "id                                                     int64\n",
       "timestamp                                     datetime64[ns]\n",
       "full_sq                                                int64\n",
       "life_sq                                              float64\n",
       "floor                                                float64\n",
       "max_floor                                            float64\n",
       "material                                             float64\n",
       "build_year                                           float64\n",
       "num_room                                             float64\n",
       "kitch_sq                                             float64\n",
       "state                                                float64\n",
       "product_type                                          object\n",
       "sub_area                                              object\n",
       "area_m                                               float64\n",
       "raion_popul                                            int64\n",
       "green_zone_part                                      float64\n",
       "indust_part                                          float64\n",
       "children_preschool                                     int64\n",
       "preschool_quota                                      float64\n",
       "preschool_education_centers_raion                      int64\n",
       "children_school                                        int64\n",
       "school_quota                                         float64\n",
       "school_education_centers_raion                         int64\n",
       "school_education_centers_top_20_raion                  int64\n",
       "hospital_beds_raion                                  float64\n",
       "healthcare_centers_raion                               int64\n",
       "university_top_20_raion                                int64\n",
       "sport_objects_raion                                    int64\n",
       "additional_education_raion                             int64\n",
       "culture_objects_top_25                                object\n",
       "culture_objects_top_25_raion                           int64\n",
       "shopping_centers_raion                                 int64\n",
       "office_raion                                           int64\n",
       "thermal_power_plant_raion                             object\n",
       "incineration_raion                                    object\n",
       "oil_chemistry_raion                                   object\n",
       "radiation_raion                                       object\n",
       "railroad_terminal_raion                               object\n",
       "big_market_raion                                      object\n",
       "nuclear_reactor_raion                                 object\n",
       "detention_facility_raion                              object\n",
       "full_all                                               int64\n",
       "male_f                                                 int64\n",
       "female_f                                               int64\n",
       "young_all                                              int64\n",
       "young_male                                             int64\n",
       "young_female                                           int64\n",
       "work_all                                               int64\n",
       "work_male                                              int64\n",
       "work_female                                            int64\n",
       "ekder_all                                              int64\n",
       "ekder_male                                             int64\n",
       "ekder_female                                           int64\n",
       "0_6_all                                                int64\n",
       "0_6_male                                               int64\n",
       "0_6_female                                             int64\n",
       "7_14_all                                               int64\n",
       "7_14_male                                              int64\n",
       "7_14_female                                            int64\n",
       "0_17_all                                               int64\n",
       "0_17_male                                              int64\n",
       "0_17_female                                            int64\n",
       "16_29_all                                              int64\n",
       "16_29_male                                             int64\n",
       "16_29_female                                           int64\n",
       "0_13_all                                               int64\n",
       "0_13_male                                              int64\n",
       "0_13_female                                            int64\n",
       "raion_build_count_with_material_info                 float64\n",
       "build_count_block                                    float64\n",
       "build_count_wood                                     float64\n",
       "build_count_frame                                    float64\n",
       "build_count_brick                                    float64\n",
       "build_count_monolith                                 float64\n",
       "build_count_panel                                    float64\n",
       "build_count_foam                                     float64\n",
       "build_count_slag                                     float64\n",
       "build_count_mix                                      float64\n",
       "raion_build_count_with_builddate_info                float64\n",
       "build_count_before_1920                              float64\n",
       "build_count_1921-1945                                float64\n",
       "build_count_1946-1970                                float64\n",
       "build_count_1971-1995                                float64\n",
       "build_count_after_1995                               float64\n",
       "ID_metro                                               int64\n",
       "metro_min_avto                                       float64\n",
       "metro_km_avto                                        float64\n",
       "metro_min_walk                                       float64\n",
       "metro_km_walk                                        float64\n",
       "kindergarten_km                                      float64\n",
       "school_km                                            float64\n",
       "park_km                                              float64\n",
       "green_zone_km                                        float64\n",
       "industrial_km                                        float64\n",
       "water_treatment_km                                   float64\n",
       "cemetery_km                                          float64\n",
       "incineration_km                                      float64\n",
       "railroad_station_walk_km                             float64\n",
       "railroad_station_walk_min                            float64\n",
       "ID_railroad_station_walk                             float64\n",
       "railroad_station_avto_km                             float64\n",
       "railroad_station_avto_min                            float64\n",
       "ID_railroad_station_avto                               int64\n",
       "public_transport_station_km                          float64\n",
       "public_transport_station_min_walk                    float64\n",
       "water_km                                             float64\n",
       "water_1line                                           object\n",
       "mkad_km                                              float64\n",
       "ttk_km                                               float64\n",
       "sadovoe_km                                           float64\n",
       "bulvar_ring_km                                       float64\n",
       "kremlin_km                                           float64\n",
       "big_road1_km                                         float64\n",
       "ID_big_road1                                           int64\n",
       "big_road1_1line                                       object\n",
       "big_road2_km                                         float64\n",
       "ID_big_road2                                           int64\n",
       "railroad_km                                          float64\n",
       "railroad_1line                                        object\n",
       "zd_vokzaly_avto_km                                   float64\n",
       "ID_railroad_terminal                                   int64\n",
       "bus_terminal_avto_km                                 float64\n",
       "ID_bus_terminal                                        int64\n",
       "oil_chemistry_km                                     float64\n",
       "nuclear_reactor_km                                   float64\n",
       "radiation_km                                         float64\n",
       "power_transmission_line_km                           float64\n",
       "thermal_power_plant_km                               float64\n",
       "ts_km                                                float64\n",
       "big_market_km                                        float64\n",
       "market_shop_km                                       float64\n",
       "fitness_km                                           float64\n",
       "swim_pool_km                                         float64\n",
       "ice_rink_km                                          float64\n",
       "stadium_km                                           float64\n",
       "basketball_km                                        float64\n",
       "hospice_morgue_km                                    float64\n",
       "detention_facility_km                                float64\n",
       "public_healthcare_km                                 float64\n",
       "university_km                                        float64\n",
       "workplaces_km                                        float64\n",
       "shopping_centers_km                                  float64\n",
       "office_km                                            float64\n",
       "additional_education_km                              float64\n",
       "preschool_km                                         float64\n",
       "big_church_km                                        float64\n",
       "church_synagogue_km                                  float64\n",
       "mosque_km                                            float64\n",
       "theater_km                                           float64\n",
       "museum_km                                            float64\n",
       "exhibition_km                                        float64\n",
       "catering_km                                          float64\n",
       "ecology                                               object\n",
       "green_part_500                                       float64\n",
       "prom_part_500                                        float64\n",
       "office_count_500                                       int64\n",
       "office_sqm_500                                         int64\n",
       "trc_count_500                                          int64\n",
       "trc_sqm_500                                            int64\n",
       "cafe_count_500                                         int64\n",
       "cafe_sum_500_min_price_avg                           float64\n",
       "cafe_sum_500_max_price_avg                           float64\n",
       "cafe_avg_price_500                                   float64\n",
       "cafe_count_500_na_price                                int64\n",
       "cafe_count_500_price_500                               int64\n",
       "cafe_count_500_price_1000                              int64\n",
       "cafe_count_500_price_1500                              int64\n",
       "cafe_count_500_price_2500                              int64\n",
       "cafe_count_500_price_4000                              int64\n",
       "cafe_count_500_price_high                              int64\n",
       "big_church_count_500                                   int64\n",
       "church_count_500                                       int64\n",
       "mosque_count_500                                       int64\n",
       "leisure_count_500                                      int64\n",
       "sport_count_500                                        int64\n",
       "market_count_500                                       int64\n",
       "green_part_1000                                      float64\n",
       "prom_part_1000                                       float64\n",
       "office_count_1000                                      int64\n",
       "office_sqm_1000                                        int64\n",
       "trc_count_1000                                         int64\n",
       "trc_sqm_1000                                           int64\n",
       "cafe_count_1000                                        int64\n",
       "cafe_sum_1000_min_price_avg                          float64\n",
       "cafe_sum_1000_max_price_avg                          float64\n",
       "cafe_avg_price_1000                                  float64\n",
       "cafe_count_1000_na_price                               int64\n",
       "cafe_count_1000_price_500                              int64\n",
       "cafe_count_1000_price_1000                             int64\n",
       "cafe_count_1000_price_1500                             int64\n",
       "cafe_count_1000_price_2500                             int64\n",
       "cafe_count_1000_price_4000                             int64\n",
       "cafe_count_1000_price_high                             int64\n",
       "big_church_count_1000                                  int64\n",
       "church_count_1000                                      int64\n",
       "mosque_count_1000                                      int64\n",
       "leisure_count_1000                                     int64\n",
       "sport_count_1000                                       int64\n",
       "market_count_1000                                      int64\n",
       "green_part_1500                                      float64\n",
       "prom_part_1500                                       float64\n",
       "office_count_1500                                      int64\n",
       "office_sqm_1500                                        int64\n",
       "trc_count_1500                                         int64\n",
       "trc_sqm_1500                                           int64\n",
       "cafe_count_1500                                        int64\n",
       "cafe_sum_1500_min_price_avg                          float64\n",
       "cafe_sum_1500_max_price_avg                          float64\n",
       "cafe_avg_price_1500                                  float64\n",
       "cafe_count_1500_na_price                               int64\n",
       "cafe_count_1500_price_500                              int64\n",
       "cafe_count_1500_price_1000                             int64\n",
       "cafe_count_1500_price_1500                             int64\n",
       "cafe_count_1500_price_2500                             int64\n",
       "cafe_count_1500_price_4000                             int64\n",
       "cafe_count_1500_price_high                             int64\n",
       "big_church_count_1500                                  int64\n",
       "church_count_1500                                      int64\n",
       "mosque_count_1500                                      int64\n",
       "leisure_count_1500                                     int64\n",
       "sport_count_1500                                       int64\n",
       "market_count_1500                                      int64\n",
       "green_part_2000                                      float64\n",
       "prom_part_2000                                       float64\n",
       "office_count_2000                                      int64\n",
       "office_sqm_2000                                        int64\n",
       "trc_count_2000                                         int64\n",
       "trc_sqm_2000                                           int64\n",
       "cafe_count_2000                                        int64\n",
       "cafe_sum_2000_min_price_avg                          float64\n",
       "cafe_sum_2000_max_price_avg                          float64\n",
       "cafe_avg_price_2000                                  float64\n",
       "cafe_count_2000_na_price                               int64\n",
       "cafe_count_2000_price_500                              int64\n",
       "cafe_count_2000_price_1000                             int64\n",
       "cafe_count_2000_price_1500                             int64\n",
       "cafe_count_2000_price_2500                             int64\n",
       "cafe_count_2000_price_4000                             int64\n",
       "cafe_count_2000_price_high                             int64\n",
       "big_church_count_2000                                  int64\n",
       "church_count_2000                                      int64\n",
       "mosque_count_2000                                      int64\n",
       "leisure_count_2000                                     int64\n",
       "sport_count_2000                                       int64\n",
       "market_count_2000                                      int64\n",
       "green_part_3000                                      float64\n",
       "prom_part_3000                                       float64\n",
       "office_count_3000                                      int64\n",
       "office_sqm_3000                                        int64\n",
       "trc_count_3000                                         int64\n",
       "trc_sqm_3000                                           int64\n",
       "cafe_count_3000                                        int64\n",
       "cafe_sum_3000_min_price_avg                          float64\n",
       "cafe_sum_3000_max_price_avg                          float64\n",
       "cafe_avg_price_3000                                  float64\n",
       "cafe_count_3000_na_price                               int64\n",
       "cafe_count_3000_price_500                              int64\n",
       "cafe_count_3000_price_1000                             int64\n",
       "cafe_count_3000_price_1500                             int64\n",
       "cafe_count_3000_price_2500                             int64\n",
       "cafe_count_3000_price_4000                             int64\n",
       "cafe_count_3000_price_high                             int64\n",
       "big_church_count_3000                                  int64\n",
       "church_count_3000                                      int64\n",
       "mosque_count_3000                                      int64\n",
       "leisure_count_3000                                     int64\n",
       "sport_count_3000                                       int64\n",
       "market_count_3000                                      int64\n",
       "green_part_5000                                      float64\n",
       "prom_part_5000                                       float64\n",
       "office_count_5000                                      int64\n",
       "office_sqm_5000                                        int64\n",
       "trc_count_5000                                         int64\n",
       "trc_sqm_5000                                           int64\n",
       "cafe_count_5000                                        int64\n",
       "cafe_sum_5000_min_price_avg                          float64\n",
       "cafe_sum_5000_max_price_avg                          float64\n",
       "cafe_avg_price_5000                                  float64\n",
       "cafe_count_5000_na_price                               int64\n",
       "cafe_count_5000_price_500                              int64\n",
       "cafe_count_5000_price_1000                             int64\n",
       "cafe_count_5000_price_1500                             int64\n",
       "cafe_count_5000_price_2500                             int64\n",
       "cafe_count_5000_price_4000                             int64\n",
       "cafe_count_5000_price_high                             int64\n",
       "big_church_count_5000                                  int64\n",
       "church_count_5000                                      int64\n",
       "mosque_count_5000                                      int64\n",
       "leisure_count_5000                                     int64\n",
       "sport_count_5000                                       int64\n",
       "market_count_5000                                      int64\n",
       "price_doc                                              int64\n",
       "oil_urals                                            float64\n",
       "gdp_quart                                            float64\n",
       "gdp_quart_growth                                     float64\n",
       "cpi                                                  float64\n",
       "ppi                                                  float64\n",
       "gdp_deflator                                         float64\n",
       "balance_trade                                        float64\n",
       "balance_trade_growth                                 float64\n",
       "usdrub                                               float64\n",
       "eurrub                                               float64\n",
       "brent                                                float64\n",
       "net_capital_export                                   float64\n",
       "gdp_annual                                           float64\n",
       "gdp_annual_growth                                    float64\n",
       "average_provision_of_build_contract                  float64\n",
       "average_provision_of_build_contract_moscow           float64\n",
       "rts                                                  float64\n",
       "micex                                                float64\n",
       "micex_rgbi_tr                                        float64\n",
       "micex_cbi_tr                                         float64\n",
       "deposits_value                                         int64\n",
       "deposits_growth                                      float64\n",
       "deposits_rate                                        float64\n",
       "mortgage_value                                         int64\n",
       "mortgage_growth                                      float64\n",
       "mortgage_rate                                        float64\n",
       "grp                                                  float64\n",
       "grp_growth                                           float64\n",
       "income_per_cap                                       float64\n",
       "real_dispos_income_per_cap_growth                    float64\n",
       "salary                                               float64\n",
       "salary_growth                                        float64\n",
       "fixed_basket                                         float64\n",
       "retail_trade_turnover                                float64\n",
       "retail_trade_turnover_per_cap                        float64\n",
       "retail_trade_turnover_growth                         float64\n",
       "labor_force                                          float64\n",
       "unemployment                                         float64\n",
       "employment                                           float64\n",
       "invest_fixed_capital_per_cap                         float64\n",
       "invest_fixed_assets                                  float64\n",
       "profitable_enterpr_share                             float64\n",
       "unprofitable_enterpr_share                           float64\n",
       "share_own_revenues                                   float64\n",
       "overdue_wages_per_cap                                float64\n",
       "fin_res_per_cap                                      float64\n",
       "marriages_per_1000_cap                               float64\n",
       "divorce_rate                                         float64\n",
       "construction_value                                   float64\n",
       "invest_fixed_assets_phys                             float64\n",
       "pop_natural_increase                                 float64\n",
       "pop_migration                                        float64\n",
       "pop_total_inc                                        float64\n",
       "childbirth                                           float64\n",
       "mortality                                            float64\n",
       "housing_fund_sqm                                     float64\n",
       "lodging_sqm_per_cap                                  float64\n",
       "water_pipes_share                                    float64\n",
       "baths_share                                          float64\n",
       "sewerage_share                                       float64\n",
       "gas_share                                            float64\n",
       "hot_water_share                                      float64\n",
       "electric_stove_share                                 float64\n",
       "heating_share                                        float64\n",
       "old_house_share                                      float64\n",
       "average_life_exp                                     float64\n",
       "infant_mortarity_per_1000_cap                        float64\n",
       "perinatal_mort_per_1000_cap                          float64\n",
       "incidence_population                                 float64\n",
       "rent_price_4+room_bus                                float64\n",
       "rent_price_3room_bus                                 float64\n",
       "rent_price_2room_bus                                 float64\n",
       "rent_price_1room_bus                                 float64\n",
       "rent_price_3room_eco                                 float64\n",
       "rent_price_2room_eco                                 float64\n",
       "rent_price_1room_eco                                 float64\n",
       "load_of_teachers_preschool_per_teacher               float64\n",
       "child_on_acc_pre_school                               object\n",
       "load_of_teachers_school_per_teacher                  float64\n",
       "students_state_oneshift                              float64\n",
       "modern_education_share                                object\n",
       "old_education_build_share                             object\n",
       "provision_doctors                                    float64\n",
       "provision_nurse                                      float64\n",
       "load_on_doctors                                      float64\n",
       "power_clinics                                        float64\n",
       "hospital_beds_available_per_cap                      float64\n",
       "hospital_bed_occupancy_per_year                      float64\n",
       "provision_retail_space_sqm                           float64\n",
       "provision_retail_space_modern_sqm                    float64\n",
       "turnover_catering_per_cap                            float64\n",
       "theaters_viewers_per_1000_cap                        float64\n",
       "seats_theather_rfmin_per_100000_cap                  float64\n",
       "museum_visitis_per_100_cap                           float64\n",
       "bandwidth_sports                                     float64\n",
       "population_reg_sports_share                          float64\n",
       "students_reg_sports_share                            float64\n",
       "apartment_build                                      float64\n",
       "apartment_fund_sqm                                   float64\n",
       "dtype: object"
      ]
     },
     "execution_count": 10,
     "metadata": {},
     "output_type": "execute_result"
    }
   ],
   "source": [
    "df.dtypes"
   ]
  },
  {
   "cell_type": "code",
   "execution_count": 11,
   "id": "2dbdd7ca",
   "metadata": {},
   "outputs": [],
   "source": [
    "# удаляем неинформативные признаки\n",
    "df = df.drop(['id', 'ID_big_road1', 'ID_big_road2', 'ID_bus_terminal', 'ID_metro', 'ID_railroad_station_avto', 'ID_railroad_station_walk', 'ID_railroad_terminal'], axis=1)"
   ]
  },
  {
   "cell_type": "code",
   "execution_count": 12,
   "id": "71d22e66",
   "metadata": {},
   "outputs": [
    {
     "data": {
      "text/plain": [
       "10"
      ]
     },
     "execution_count": 12,
     "metadata": {},
     "output_type": "execute_result"
    }
   ],
   "source": [
    "# поиск дубликатов\n",
    "df.duplicated().sum()"
   ]
  },
  {
   "cell_type": "code",
   "execution_count": 13,
   "id": "077d1bf5",
   "metadata": {},
   "outputs": [],
   "source": [
    "# удаление дупликатов\n",
    "df = df.drop_duplicates()"
   ]
  },
  {
   "cell_type": "code",
   "execution_count": 14,
   "id": "12ebf89b",
   "metadata": {},
   "outputs": [
    {
     "data": {
      "text/plain": [
       "0"
      ]
     },
     "execution_count": 14,
     "metadata": {},
     "output_type": "execute_result"
    }
   ],
   "source": [
    "# проверяем пропуски в таргете\n",
    "df['price_doc'].isna().sum()"
   ]
  },
  {
   "cell_type": "code",
   "execution_count": 15,
   "id": "e2fd7329",
   "metadata": {},
   "outputs": [
    {
     "data": {
      "text/plain": [
       "full_sq        0\n",
       "life_sq     6376\n",
       "kitch_sq    9567\n",
       "dtype: int64"
      ]
     },
     "execution_count": 15,
     "metadata": {},
     "output_type": "execute_result"
    }
   ],
   "source": [
    "df[['full_sq', 'life_sq', 'kitch_sq']].isna().sum()"
   ]
  },
  {
   "cell_type": "code",
   "execution_count": 16,
   "id": "0613edd1",
   "metadata": {},
   "outputs": [
    {
     "data": {
      "text/html": [
       "<div>\n",
       "<style scoped>\n",
       "    .dataframe tbody tr th:only-of-type {\n",
       "        vertical-align: middle;\n",
       "    }\n",
       "\n",
       "    .dataframe tbody tr th {\n",
       "        vertical-align: top;\n",
       "    }\n",
       "\n",
       "    .dataframe thead th {\n",
       "        text-align: right;\n",
       "    }\n",
       "</style>\n",
       "<table border=\"1\" class=\"dataframe\">\n",
       "  <thead>\n",
       "    <tr style=\"text-align: right;\">\n",
       "      <th></th>\n",
       "      <th>full_sq</th>\n",
       "      <th>life_sq</th>\n",
       "      <th>kitch_sq</th>\n",
       "    </tr>\n",
       "  </thead>\n",
       "  <tbody>\n",
       "    <tr>\n",
       "      <th>count</th>\n",
       "      <td>30461.000000</td>\n",
       "      <td>24085.000000</td>\n",
       "      <td>20894.000000</td>\n",
       "    </tr>\n",
       "    <tr>\n",
       "      <th>mean</th>\n",
       "      <td>54.211877</td>\n",
       "      <td>34.399128</td>\n",
       "      <td>6.398535</td>\n",
       "    </tr>\n",
       "    <tr>\n",
       "      <th>std</th>\n",
       "      <td>38.034562</td>\n",
       "      <td>52.285018</td>\n",
       "      <td>28.268262</td>\n",
       "    </tr>\n",
       "    <tr>\n",
       "      <th>min</th>\n",
       "      <td>0.000000</td>\n",
       "      <td>0.000000</td>\n",
       "      <td>0.000000</td>\n",
       "    </tr>\n",
       "    <tr>\n",
       "      <th>25%</th>\n",
       "      <td>38.000000</td>\n",
       "      <td>20.000000</td>\n",
       "      <td>1.000000</td>\n",
       "    </tr>\n",
       "    <tr>\n",
       "      <th>50%</th>\n",
       "      <td>49.000000</td>\n",
       "      <td>30.000000</td>\n",
       "      <td>6.000000</td>\n",
       "    </tr>\n",
       "    <tr>\n",
       "      <th>75%</th>\n",
       "      <td>63.000000</td>\n",
       "      <td>43.000000</td>\n",
       "      <td>9.000000</td>\n",
       "    </tr>\n",
       "    <tr>\n",
       "      <th>max</th>\n",
       "      <td>5326.000000</td>\n",
       "      <td>7478.000000</td>\n",
       "      <td>2014.000000</td>\n",
       "    </tr>\n",
       "  </tbody>\n",
       "</table>\n",
       "</div>"
      ],
      "text/plain": [
       "            full_sq       life_sq      kitch_sq\n",
       "count  30461.000000  24085.000000  20894.000000\n",
       "mean      54.211877     34.399128      6.398535\n",
       "std       38.034562     52.285018     28.268262\n",
       "min        0.000000      0.000000      0.000000\n",
       "25%       38.000000     20.000000      1.000000\n",
       "50%       49.000000     30.000000      6.000000\n",
       "75%       63.000000     43.000000      9.000000\n",
       "max     5326.000000   7478.000000   2014.000000"
      ]
     },
     "execution_count": 16,
     "metadata": {},
     "output_type": "execute_result"
    }
   ],
   "source": [
    "df[['full_sq', 'life_sq', 'kitch_sq']].describe()"
   ]
  },
  {
   "cell_type": "code",
   "execution_count": 17,
   "id": "d632ce20",
   "metadata": {},
   "outputs": [
    {
     "data": {
      "text/plain": [
       "(30461, 383)"
      ]
     },
     "execution_count": 17,
     "metadata": {},
     "output_type": "execute_result"
    }
   ],
   "source": [
    "# скорректировать отдельные пропущенные значения\n",
    "df['life_sq'] = np.where(df['life_sq'].isna(), df['full_sq'] - df['kitch_sq'], df['life_sq'])\n",
    "df['life_sq'] = np.where(df['life_sq']==0, df['full_sq'] - df['kitch_sq'], df['life_sq'])\n",
    "\n",
    "df['kitch_sq'] = np.where(df['kitch_sq'].isna(), df['full_sq'] - df['life_sq'], df['kitch_sq'])\n",
    "df['kitch_sq'] = np.where(df['kitch_sq']==0, df['full_sq'] - df['life_sq'], df['kitch_sq'])\n",
    "\n",
    "df['full_sq'] = np.where(df['full_sq']==0, df['kitch_sq'] + df['life_sq'], df['full_sq'])\n",
    "\n",
    "df.shape"
   ]
  },
  {
   "cell_type": "code",
   "execution_count": 18,
   "id": "100b2795",
   "metadata": {},
   "outputs": [
    {
     "data": {
      "text/plain": [
       "(28216, 383)"
      ]
     },
     "execution_count": 18,
     "metadata": {},
     "output_type": "execute_result"
    }
   ],
   "source": [
    "# удаляем пропуски\n",
    "df = df.dropna(subset = ['life_sq', 'kitch_sq'])\n",
    "df.shape"
   ]
  },
  {
   "cell_type": "code",
   "execution_count": 19,
   "id": "d6be443b",
   "metadata": {},
   "outputs": [
    {
     "data": {
      "text/html": [
       "<div>\n",
       "<style scoped>\n",
       "    .dataframe tbody tr th:only-of-type {\n",
       "        vertical-align: middle;\n",
       "    }\n",
       "\n",
       "    .dataframe tbody tr th {\n",
       "        vertical-align: top;\n",
       "    }\n",
       "\n",
       "    .dataframe thead th {\n",
       "        text-align: right;\n",
       "    }\n",
       "</style>\n",
       "<table border=\"1\" class=\"dataframe\">\n",
       "  <thead>\n",
       "    <tr style=\"text-align: right;\">\n",
       "      <th></th>\n",
       "      <th>full_sq</th>\n",
       "      <th>life_sq</th>\n",
       "      <th>kitch_sq</th>\n",
       "    </tr>\n",
       "  </thead>\n",
       "  <tbody>\n",
       "    <tr>\n",
       "      <th>count</th>\n",
       "      <td>28216.000000</td>\n",
       "      <td>28216.000000</td>\n",
       "      <td>28216.000000</td>\n",
       "    </tr>\n",
       "    <tr>\n",
       "      <th>mean</th>\n",
       "      <td>53.836086</td>\n",
       "      <td>37.810462</td>\n",
       "      <td>9.440424</td>\n",
       "    </tr>\n",
       "    <tr>\n",
       "      <th>std</th>\n",
       "      <td>38.928202</td>\n",
       "      <td>49.851869</td>\n",
       "      <td>41.447789</td>\n",
       "    </tr>\n",
       "    <tr>\n",
       "      <th>min</th>\n",
       "      <td>0.000000</td>\n",
       "      <td>0.000000</td>\n",
       "      <td>-720.000000</td>\n",
       "    </tr>\n",
       "    <tr>\n",
       "      <th>25%</th>\n",
       "      <td>38.000000</td>\n",
       "      <td>21.000000</td>\n",
       "      <td>1.000000</td>\n",
       "    </tr>\n",
       "    <tr>\n",
       "      <th>50%</th>\n",
       "      <td>48.000000</td>\n",
       "      <td>32.000000</td>\n",
       "      <td>8.000000</td>\n",
       "    </tr>\n",
       "    <tr>\n",
       "      <th>75%</th>\n",
       "      <td>63.000000</td>\n",
       "      <td>45.000000</td>\n",
       "      <td>11.000000</td>\n",
       "    </tr>\n",
       "    <tr>\n",
       "      <th>max</th>\n",
       "      <td>5326.000000</td>\n",
       "      <td>7478.000000</td>\n",
       "      <td>5304.000000</td>\n",
       "    </tr>\n",
       "  </tbody>\n",
       "</table>\n",
       "</div>"
      ],
      "text/plain": [
       "            full_sq       life_sq      kitch_sq\n",
       "count  28216.000000  28216.000000  28216.000000\n",
       "mean      53.836086     37.810462      9.440424\n",
       "std       38.928202     49.851869     41.447789\n",
       "min        0.000000      0.000000   -720.000000\n",
       "25%       38.000000     21.000000      1.000000\n",
       "50%       48.000000     32.000000      8.000000\n",
       "75%       63.000000     45.000000     11.000000\n",
       "max     5326.000000   7478.000000   5304.000000"
      ]
     },
     "execution_count": 19,
     "metadata": {},
     "output_type": "execute_result"
    }
   ],
   "source": [
    "df[['full_sq', 'life_sq', 'kitch_sq']].describe()"
   ]
  },
  {
   "cell_type": "code",
   "execution_count": 20,
   "id": "864787c9",
   "metadata": {},
   "outputs": [],
   "source": [
    "# оставим только больше 0\n",
    "df = df[df['full_sq']>0]\n",
    "df = df[df['life_sq']>0]\n",
    "df = df[df['kitch_sq']>0]"
   ]
  },
  {
   "cell_type": "code",
   "execution_count": 21,
   "id": "0cad3f14",
   "metadata": {},
   "outputs": [
    {
     "data": {
      "text/plain": [
       "0.6052631578947368"
      ]
     },
     "execution_count": 21,
     "metadata": {},
     "output_type": "execute_result"
    }
   ],
   "source": [
    "# оценка доли жилой площади\n",
    "(df['life_sq']/df['full_sq']).median()"
   ]
  },
  {
   "cell_type": "code",
   "execution_count": 22,
   "id": "20298f6b",
   "metadata": {},
   "outputs": [],
   "source": [
    "# корректировка значения жилой площади\n",
    "df['life_sq'] = np.where(df['life_sq'] >= df['full_sq'], df['full_sq']*0.61, df['life_sq'])"
   ]
  },
  {
   "cell_type": "code",
   "execution_count": 23,
   "id": "7102529e",
   "metadata": {},
   "outputs": [
    {
     "data": {
      "text/plain": [
       "0.15730337078651685"
      ]
     },
     "execution_count": 23,
     "metadata": {},
     "output_type": "execute_result"
    }
   ],
   "source": [
    "# оценка доли площади кухни\n",
    "(df['kitch_sq']/df['full_sq']).median()"
   ]
  },
  {
   "cell_type": "code",
   "execution_count": 24,
   "id": "c2543475",
   "metadata": {},
   "outputs": [],
   "source": [
    "# корректировка значения площади кухни\n",
    "df['kitch_sq'] = np.where(df['kitch_sq'] >= df['full_sq'], df['full_sq']*0.61, df['kitch_sq'])"
   ]
  },
  {
   "cell_type": "code",
   "execution_count": 25,
   "id": "79dbc9c3",
   "metadata": {},
   "outputs": [],
   "source": [
    "df['kitch_sq'] = np.where(df['kitch_sq'] >= df['life_sq'], df['life_sq']*(0.61/0.16), df['kitch_sq'])"
   ]
  },
  {
   "cell_type": "code",
   "execution_count": 26,
   "id": "b2d4f015",
   "metadata": {},
   "outputs": [
    {
     "data": {
      "text/html": [
       "<div>\n",
       "<style scoped>\n",
       "    .dataframe tbody tr th:only-of-type {\n",
       "        vertical-align: middle;\n",
       "    }\n",
       "\n",
       "    .dataframe tbody tr th {\n",
       "        vertical-align: top;\n",
       "    }\n",
       "\n",
       "    .dataframe thead th {\n",
       "        text-align: right;\n",
       "    }\n",
       "</style>\n",
       "<table border=\"1\" class=\"dataframe\">\n",
       "  <thead>\n",
       "    <tr style=\"text-align: right;\">\n",
       "      <th></th>\n",
       "      <th>full_sq</th>\n",
       "      <th>life_sq</th>\n",
       "      <th>kitch_sq</th>\n",
       "    </tr>\n",
       "  </thead>\n",
       "  <tbody>\n",
       "    <tr>\n",
       "      <th>count</th>\n",
       "      <td>25955.000000</td>\n",
       "      <td>25955.000000</td>\n",
       "      <td>25955.000000</td>\n",
       "    </tr>\n",
       "    <tr>\n",
       "      <th>mean</th>\n",
       "      <td>53.408361</td>\n",
       "      <td>34.248702</td>\n",
       "      <td>12.206977</td>\n",
       "    </tr>\n",
       "    <tr>\n",
       "      <th>std</th>\n",
       "      <td>39.697694</td>\n",
       "      <td>18.422964</td>\n",
       "      <td>18.004584</td>\n",
       "    </tr>\n",
       "    <tr>\n",
       "      <th>min</th>\n",
       "      <td>1.000000</td>\n",
       "      <td>0.610000</td>\n",
       "      <td>1.000000</td>\n",
       "    </tr>\n",
       "    <tr>\n",
       "      <th>25%</th>\n",
       "      <td>38.000000</td>\n",
       "      <td>20.000000</td>\n",
       "      <td>5.000000</td>\n",
       "    </tr>\n",
       "    <tr>\n",
       "      <th>50%</th>\n",
       "      <td>47.000000</td>\n",
       "      <td>30.000000</td>\n",
       "      <td>8.000000</td>\n",
       "    </tr>\n",
       "    <tr>\n",
       "      <th>75%</th>\n",
       "      <td>63.000000</td>\n",
       "      <td>43.000000</td>\n",
       "      <td>12.000000</td>\n",
       "    </tr>\n",
       "    <tr>\n",
       "      <th>max</th>\n",
       "      <td>5326.000000</td>\n",
       "      <td>602.000000</td>\n",
       "      <td>358.375000</td>\n",
       "    </tr>\n",
       "  </tbody>\n",
       "</table>\n",
       "</div>"
      ],
      "text/plain": [
       "            full_sq       life_sq      kitch_sq\n",
       "count  25955.000000  25955.000000  25955.000000\n",
       "mean      53.408361     34.248702     12.206977\n",
       "std       39.697694     18.422964     18.004584\n",
       "min        1.000000      0.610000      1.000000\n",
       "25%       38.000000     20.000000      5.000000\n",
       "50%       47.000000     30.000000      8.000000\n",
       "75%       63.000000     43.000000     12.000000\n",
       "max     5326.000000    602.000000    358.375000"
      ]
     },
     "execution_count": 26,
     "metadata": {},
     "output_type": "execute_result"
    }
   ],
   "source": [
    "df[['full_sq', 'life_sq', 'kitch_sq']].describe()"
   ]
  },
  {
   "cell_type": "code",
   "execution_count": 27,
   "id": "32bb1af7",
   "metadata": {},
   "outputs": [
    {
     "data": {
      "text/plain": [
       "29.0"
      ]
     },
     "execution_count": 27,
     "metadata": {},
     "output_type": "execute_result"
    }
   ],
   "source": [
    "# делаем тримминг fullsq\n",
    "df['full_sq'].quantile(0.02)"
   ]
  },
  {
   "cell_type": "code",
   "execution_count": 28,
   "id": "465bde0d",
   "metadata": {},
   "outputs": [
    {
     "data": {
      "text/plain": [
       "109.0"
      ]
     },
     "execution_count": 28,
     "metadata": {},
     "output_type": "execute_result"
    }
   ],
   "source": [
    "df['full_sq'].quantile(0.98)"
   ]
  },
  {
   "cell_type": "code",
   "execution_count": 29,
   "id": "2f1b492e",
   "metadata": {},
   "outputs": [
    {
     "data": {
      "text/plain": [
       "(25034, 383)"
      ]
     },
     "execution_count": 29,
     "metadata": {},
     "output_type": "execute_result"
    }
   ],
   "source": [
    "df = df[df['full_sq'].between(29,109)]\n",
    "df.shape"
   ]
  },
  {
   "cell_type": "code",
   "execution_count": 30,
   "id": "0f600652",
   "metadata": {},
   "outputs": [],
   "source": [
    "# рассчитаем цену на площадь\n",
    "df['price_per_sq'] = df['price_doc']/df['full_sq']"
   ]
  },
  {
   "cell_type": "code",
   "execution_count": 31,
   "id": "d3ca6747",
   "metadata": {},
   "outputs": [
    {
     "data": {
      "image/png": "[encoded data removed]",
      "text/plain": [
       "<Figure size 640x480 with 1 Axes>"
      ]
     },
     "metadata": {},
     "output_type": "display_data"
    }
   ],
   "source": [
    "df['date'] = df['timestamp'].dt.date\n",
    "agg = df.groupby('date')['price_per_sq'].mean()\n",
    "agg.plot();"
   ]
  },
  {
   "cell_type": "code",
   "execution_count": 32,
   "id": "75667663",
   "metadata": {},
   "outputs": [
    {
     "data": {
      "image/png": "[encoded data removed]",
      "text/plain": [
       "<Figure size 640x480 with 1 Axes>"
      ]
     },
     "metadata": {},
     "output_type": "display_data"
    }
   ],
   "source": [
    "df['month'] = df['timestamp'].dt.to_period('M')\n",
    "agg2 = df.groupby('month')['price_per_sq'].mean()\n",
    "agg2.plot();"
   ]
  },
  {
   "cell_type": "code",
   "execution_count": 33,
   "id": "b05a28b5",
   "metadata": {},
   "outputs": [
    {
     "data": {
      "text/plain": [
       "month\n",
       "2011-08    148358.413133\n",
       "2011-09    127499.060532\n",
       "2011-10    116822.632344\n",
       "2011-11    126341.788003\n",
       "2011-12    119849.541816\n",
       "2012-01    132090.046043\n",
       "2012-02    129342.972140\n",
       "2012-03    133309.676002\n",
       "2012-04    131149.376361\n",
       "2012-05    141255.836649\n",
       "2012-06    138224.311450\n",
       "2012-07    134220.272000\n",
       "2012-08    125758.923061\n",
       "2012-09    130278.091263\n",
       "2012-10    132492.535486\n",
       "2012-11    132829.957844\n",
       "2012-12    127307.081771\n",
       "2013-01    135099.244789\n",
       "2013-02    139942.788666\n",
       "2013-03    139271.604473\n",
       "2013-04    134659.084362\n",
       "2013-05    136285.864495\n",
       "2013-06    144186.882684\n",
       "2013-07    141323.450324\n",
       "2013-08    133700.323472\n",
       "2013-09    127343.135053\n",
       "2013-10    130338.703047\n",
       "2013-11    132470.153912\n",
       "2013-12    134989.273267\n",
       "2014-01    136302.540165\n",
       "2014-02    136923.747198\n",
       "2014-03    134765.140718\n",
       "2014-04    140480.959951\n",
       "2014-05    140601.804917\n",
       "2014-06    134740.305102\n",
       "2014-07    139305.047227\n",
       "2014-08    138806.137570\n",
       "2014-09    140775.957995\n",
       "2014-10    136917.200403\n",
       "2014-11    139795.813564\n",
       "2014-12    144868.004807\n",
       "2015-01    145820.618369\n",
       "2015-02    144123.825517\n",
       "2015-03    145388.755923\n",
       "2015-04    142223.546852\n",
       "2015-05    142661.172404\n",
       "2015-06    140517.583930\n",
       "Freq: M, Name: price_per_sq, dtype: float64"
      ]
     },
     "execution_count": 33,
     "metadata": {},
     "output_type": "execute_result"
    }
   ],
   "source": [
    "agg2"
   ]
  },
  {
   "cell_type": "code",
   "execution_count": 34,
   "id": "cd66143a",
   "metadata": {},
   "outputs": [
    {
     "data": {
      "text/plain": [
       "month\n",
       "2011-08    1.055800\n",
       "2011-09    0.907353\n",
       "2011-10    0.831374\n",
       "2011-11    0.899117\n",
       "2011-12    0.852915\n",
       "Freq: M, Name: price_per_sq, dtype: float64"
      ]
     },
     "execution_count": 34,
     "metadata": {},
     "output_type": "execute_result"
    }
   ],
   "source": [
    "price_index = agg2/agg2[-1]\n",
    "price_index.head()"
   ]
  },
  {
   "cell_type": "code",
   "execution_count": 35,
   "id": "1fbc46b0",
   "metadata": {},
   "outputs": [
    {
     "data": {
      "text/plain": [
       "<AxesSubplot: xlabel='date'>"
      ]
     },
     "execution_count": 35,
     "metadata": {},
     "output_type": "execute_result"
    },
    {
     "data": {
      "image/png": "[encoded data removed]",
      "text/plain": [
       "<Figure size 640x480 with 1 Axes>"
      ]
     },
     "metadata": {},
     "output_type": "display_data"
    }
   ],
   "source": [
    "dic = price_index.to_dict()\n",
    "df['price_index'] = df['month'].map(dic)\n",
    "\n",
    "df['price_per_sq_const'] = df['price_per_sq']/df['price_index']\n",
    "\n",
    "agg = df.groupby('date')['price_per_sq_const'].mean()\n",
    "agg.plot()"
   ]
  },
  {
   "cell_type": "code",
   "execution_count": 36,
   "id": "778ed23e",
   "metadata": {
    "scrolled": true
   },
   "outputs": [
    {
     "data": {
      "text/plain": [
       "<AxesSubplot: xlabel='month'>"
      ]
     },
     "execution_count": 36,
     "metadata": {},
     "output_type": "execute_result"
    },
    {
     "data": {
      "image/png": "[encoded data removed]",
      "text/plain": [
       "<Figure size 640x480 with 1 Axes>"
      ]
     },
     "metadata": {},
     "output_type": "display_data"
    }
   ],
   "source": [
    "agg2 = df.groupby('month')['price_per_sq_const'].mean()\n",
    "agg2.plot()"
   ]
  },
  {
   "cell_type": "code",
   "execution_count": 37,
   "id": "52334314",
   "metadata": {
    "scrolled": true
   },
   "outputs": [
    {
     "data": {
      "image/png": "[encoded data removed]",
      "text/plain": [
       "<Figure size 640x480 with 1 Axes>"
      ]
     },
     "metadata": {},
     "output_type": "display_data"
    }
   ],
   "source": [
    "df['price_per_sq_const'].hist(bins = 100);"
   ]
  },
  {
   "cell_type": "code",
   "execution_count": 38,
   "id": "ae27cf92",
   "metadata": {},
   "outputs": [
    {
     "data": {
      "image/png": "[encoded data removed]",
      "text/plain": [
       "<Figure size 640x480 with 1 Axes>"
      ]
     },
     "metadata": {},
     "output_type": "display_data"
    }
   ],
   "source": [
    "np.log1p(df['price_per_sq_const']).hist(bins = 100);"
   ]
  },
  {
   "cell_type": "code",
   "execution_count": 39,
   "id": "4f635a7e",
   "metadata": {},
   "outputs": [],
   "source": [
    "df['target'] = np.log1p(df['price_per_sq_const'])\n",
    "df = df.drop(['price_doc', 'price_per_sq', 'price_per_sq_const', 'date', 'month'], axis=1)"
   ]
  },
  {
   "cell_type": "code",
   "execution_count": 40,
   "id": "83fa6a51",
   "metadata": {},
   "outputs": [
    {
     "name": "stderr",
     "output_type": "stream",
     "text": [
      "C:\\Users\\Admin\\AppData\\Local\\Temp\\ipykernel_9204\\1262216200.py:6: FutureWarning: Series.dt.weekofyear and Series.dt.week have been deprecated. Please use Series.dt.isocalendar().week instead.\n",
      "  df['woy'] = df['timestamp'].dt.weekofyear\n"
     ]
    }
   ],
   "source": [
    "# создаем новые фичи по колонке времени\n",
    "df['dow'] = df['timestamp'].dt.dayofweek\n",
    "df['dom'] = df['timestamp'].dt.day\n",
    "df['doy'] = df['timestamp'].dt.dayofyear\n",
    "df['month'] = df['timestamp'].dt.month\n",
    "df['woy'] = df['timestamp'].dt.weekofyear\n",
    "df = df.drop('timestamp', axis=1)"
   ]
  },
  {
   "cell_type": "code",
   "execution_count": 41,
   "id": "6dc2a984",
   "metadata": {},
   "outputs": [
    {
     "data": {
      "text/plain": [
       "['load_of_teachers_preschool_per_teacher',\n",
       " 'provision_retail_space_sqm',\n",
       " 'provision_retail_space_modern_sqm',\n",
       " 'theaters_viewers_per_1000_cap',\n",
       " 'museum_visitis_per_100_cap',\n",
       " 'students_reg_sports_share']"
      ]
     },
     "execution_count": 41,
     "metadata": {},
     "output_type": "execute_result"
    }
   ],
   "source": [
    "# удаляем колонки с пропусками 50% и более\n",
    "col_list = []\n",
    "\n",
    "for column in df.columns:\n",
    "  if df[column].isna().mean() >= 0.5:\n",
    "    col_list.append(column)\n",
    "\n",
    "col_list"
   ]
  },
  {
   "cell_type": "code",
   "execution_count": 42,
   "id": "a2898bd6",
   "metadata": {},
   "outputs": [],
   "source": [
    "df = df.drop(columns = col_list, axis=1)"
   ]
  },
  {
   "cell_type": "code",
   "execution_count": 43,
   "id": "9da28c54",
   "metadata": {},
   "outputs": [
    {
     "name": "stdout",
     "output_type": "stream",
     "text": [
      "product_type\n",
      "Uniq values: 2\n",
      "==============================================\n",
      "['Investment' 'OwnerOccupier']\n",
      "==============================================\n",
      "sub_area\n",
      "Uniq values: 146\n",
      "==============================================\n",
      "['Bibirevo' 'Nagatinskij Zaton' \"Tekstil'shhiki\" 'Mitino' 'Nizhegorodskoe'\n",
      " 'Koptevo' 'Kuncevo' 'Kosino-Uhtomskoe' 'Zapadnoe Degunino' 'Lefortovo'\n",
      " \"Mar'ino\" \"Kuz'minki\" 'Nagornoe' \"Gol'janovo\" 'Vnukovo'\n",
      " 'Severnoe Tushino' \"Chertanovo Central'noe\" 'Juzhnoe Tushino'\n",
      " 'Fili Davydkovo' 'Otradnoe' 'Novo-Peredelkino' 'Bogorodskoe'\n",
      " 'Jaroslavskoe' 'Strogino' 'Hovrino' \"Moskvorech'e-Saburovo\"\n",
      " 'Staroe Krjukovo' 'Ljublino' 'Veshnjaki' 'Danilovskoe' 'Caricyno'\n",
      " 'Preobrazhenskoe' \"Kon'kovo\" 'Brateevo' 'Vostochnoe Izmajlovo'\n",
      " 'Vyhino-Zhulebino' 'Donskoe' 'Novogireevo' 'Sokol' 'Kurkino' 'Izmajlovo'\n",
      " 'Severnoe Medvedkovo' 'Rostokino' 'Orehovo-Borisovo Severnoe'\n",
      " 'Ochakovo-Matveevskoe' 'Taganskoe' 'Dmitrovskoe'\n",
      " 'Orehovo-Borisovo Juzhnoe' 'Teplyj Stan' 'Juzhnoe Butovo' 'Basmannoe'\n",
      " 'Babushkinskoe' 'Pokrovskoe Streshnevo' 'Obruchevskoe' 'Filevskij Park'\n",
      " 'Troparevo-Nikulino' 'Severnoe Butovo' 'Hamovniki' 'Solncevo'\n",
      " 'Dorogomilovo' 'Lianozovo' 'Pechatniki' 'Krjukovo' 'Jasenevo'\n",
      " 'Chertanovo Severnoe' 'Rjazanskij' 'Silino' 'Golovinskoe' 'Ivanovskoe'\n",
      " 'Novokosino' 'Nagatino-Sadovniki' 'Birjulevo Vostochnoe'\n",
      " 'Severnoe Izmajlovo' 'Sokolinaja Gora' 'Vostochnoe Degunino'\n",
      " 'Prospekt Vernadskogo' 'Savelki' 'Ajeroport' 'Vojkovskoe'\n",
      " 'Beskudnikovskoe' 'Juzhnoportovoe' 'Perovo' 'Akademicheskoe'\n",
      " 'Horoshevo-Mnevniki' 'Shhukino' 'Kapotnja' 'Horoshevskoe' 'Marfino'\n",
      " 'Krylatskoe' 'Chertanovo Juzhnoe' 'Savelovskoe' 'Birjulevo Zapadnoe'\n",
      " 'Nekrasovka' 'Presnenskoe' 'Cheremushki' 'Sviblovo' 'Alekseevskoe'\n",
      " \"Krasnosel'skoe\" 'Kotlovka' 'Zjuzino' 'Ostankinskoe' 'Tverskoe'\n",
      " 'Losinoostrovskoe' 'Butyrskoe' 'Matushkino' 'Metrogorodok'\n",
      " 'Juzhnoe Medvedkovo' 'Jakimanka' 'Mozhajskoe' 'Levoberezhnoe'\n",
      " \"Mar'ina Roshha\" 'Timirjazevskoe' 'Gagarinskoe' \"Sokol'niki\"\n",
      " \"Altuf'evskoe\" 'Ramenki' 'Zjablikovo' 'Severnoe' 'Lomonosovskoe'\n",
      " 'Meshhanskoe' 'Begovoe' 'Arbat' \"Zamoskvorech'e\" 'Poselenie Pervomajskoe'\n",
      " 'Poselenie Voskresenskoe' 'Poselenie Desjonovskoe' 'Poselenie Moskovskij'\n",
      " 'Poselenie Mosrentgen' 'Troickij okrug' 'Poselenie Shherbinka'\n",
      " 'Poselenie Filimonkovskoe' 'Poselenie Vnukovskoe'\n",
      " 'Poselenie Marushkinskoe' 'Poselenie Shhapovskoe' 'Poselenie Sosenskoe'\n",
      " 'Poselenie Rjazanovskoe' 'Poselenie Kokoshkino' 'Vostochnoe'\n",
      " 'Poselenie Novofedorovskoe' 'Poselenie Krasnopahorskoe'\n",
      " 'Poselenie Voronovskoe' 'Poselenie Klenovskoe' 'Poselenie Kievskij'\n",
      " 'Molzhaninovskoe' 'Poselenie Mihajlovo-Jarcevskoe' 'Poselenie Rogovskoe']\n",
      "==============================================\n",
      "culture_objects_top_25\n",
      "Uniq values: 2\n",
      "==============================================\n",
      "['no' 'yes']\n",
      "==============================================\n",
      "thermal_power_plant_raion\n",
      "Uniq values: 2\n",
      "==============================================\n",
      "['no' 'yes']\n",
      "==============================================\n",
      "incineration_raion\n",
      "Uniq values: 2\n",
      "==============================================\n",
      "['no' 'yes']\n",
      "==============================================\n",
      "oil_chemistry_raion\n",
      "Uniq values: 2\n",
      "==============================================\n",
      "['no' 'yes']\n",
      "==============================================\n",
      "radiation_raion\n",
      "Uniq values: 2\n",
      "==============================================\n",
      "['no' 'yes']\n",
      "==============================================\n",
      "railroad_terminal_raion\n",
      "Uniq values: 2\n",
      "==============================================\n",
      "['no' 'yes']\n",
      "==============================================\n",
      "big_market_raion\n",
      "Uniq values: 2\n",
      "==============================================\n",
      "['no' 'yes']\n",
      "==============================================\n",
      "nuclear_reactor_raion\n",
      "Uniq values: 2\n",
      "==============================================\n",
      "['no' 'yes']\n",
      "==============================================\n",
      "detention_facility_raion\n",
      "Uniq values: 2\n",
      "==============================================\n",
      "['no' 'yes']\n",
      "==============================================\n",
      "water_1line\n",
      "Uniq values: 2\n",
      "==============================================\n",
      "['no' 'yes']\n",
      "==============================================\n",
      "big_road1_1line\n",
      "Uniq values: 2\n",
      "==============================================\n",
      "['no' 'yes']\n",
      "==============================================\n",
      "railroad_1line\n",
      "Uniq values: 2\n",
      "==============================================\n",
      "['no' 'yes']\n",
      "==============================================\n",
      "ecology\n",
      "Uniq values: 5\n",
      "==============================================\n",
      "['good' 'excellent' 'poor' 'satisfactory' 'no data']\n",
      "==============================================\n",
      "child_on_acc_pre_school\n",
      "Uniq values: 4\n",
      "==============================================\n",
      "['#!' '7,311' '3,013' '16,765' nan]\n",
      "==============================================\n",
      "modern_education_share\n",
      "Uniq values: 3\n",
      "==============================================\n",
      "[nan '90,92' '93,08' '95,4918']\n",
      "==============================================\n",
      "old_education_build_share\n",
      "Uniq values: 3\n",
      "==============================================\n",
      "[nan '23,14' '25,47' '8,2517']\n",
      "==============================================\n"
     ]
    }
   ],
   "source": [
    "# работа с категориальными переменными\n",
    "for column in df.select_dtypes(include='object'):\n",
    "  print(column)\n",
    "  print('Uniq values:', df[column].nunique())\n",
    "  print('==============================================')\n",
    "  print(df[column].unique())\n",
    "  print('==============================================')"
   ]
  },
  {
   "cell_type": "code",
   "execution_count": 44,
   "id": "a122aaf7",
   "metadata": {},
   "outputs": [],
   "source": [
    "# бинаризация категориальных столбцов\n",
    "bin_cols = ['culture_objects_top_25', 'thermal_power_plant_raion', 'incineration_raion', 'oil_chemistry_raion', 'radiation_raion', 'railroad_terminal_raion', 'big_market_raion', 'nuclear_reactor_raion', 'detention_facility_raion', 'water_1line', 'big_road1_1line', 'railroad_1line']\n",
    "df[bin_cols] = df[bin_cols].applymap(lambda x: 1 if x == 'yes' else 0)\n",
    "\n",
    "dic = {'Investment': 1, 'OwnerOccupier': 0}\n",
    "df['product_type'] = df['product_type'].map(dic)"
   ]
  },
  {
   "cell_type": "code",
   "execution_count": 45,
   "id": "9e5f3fc5",
   "metadata": {},
   "outputs": [],
   "source": [
    "# преобразвание порядкового категориального столбца\n",
    "dic2 = {'poor': 1, 'satisfactory': 2, 'good': 3, 'excellent': 4, 'no data': np.nan}\n",
    "df['ecology'] = df['ecology'].map(dic2)"
   ]
  },
  {
   "cell_type": "code",
   "execution_count": 46,
   "id": "9be3f37a",
   "metadata": {},
   "outputs": [],
   "source": [
    "# преобразловане текстовых столбцов к числовому типу\n",
    "df['child_on_acc_pre_school']  = df['child_on_acc_pre_school'].replace('#!', np.nan)\n",
    "\n",
    "lst2 = ['child_on_acc_pre_school', 'modern_education_share', 'old_education_build_share']\n",
    "\n",
    "for column in lst2:\n",
    "  df[column] = df[column].str.replace(',', '.').astype(float)"
   ]
  },
  {
   "cell_type": "code",
   "execution_count": 47,
   "id": "da874220",
   "metadata": {},
   "outputs": [
    {
     "data": {
      "text/plain": [
       "Poselenie Vnukovskoe              930\n",
       "Nekrasovka                        852\n",
       "Poselenie Sosenskoe               696\n",
       "Poselenie Voskresenskoe           601\n",
       "Poselenie Moskovskij              593\n",
       "Tverskoe                          511\n",
       "Mar'ino                           503\n",
       "Mitino                            495\n",
       "Krjukovo                          466\n",
       "Juzhnoe Butovo                    435\n",
       "Otradnoe                          345\n",
       "Solncevo                          330\n",
       "Nagatinskij Zaton                 316\n",
       "Poselenie Filimonkovskoe          307\n",
       "Ljublino                          291\n",
       "Gol'janovo                        286\n",
       "Bogorodskoe                       282\n",
       "Zapadnoe Degunino                 279\n",
       "Nagornoe                          265\n",
       "Tekstil'shhiki                    262\n",
       "Birjulevo Vostochnoe              261\n",
       "Vyhino-Zhulebino                  258\n",
       "Strogino                          249\n",
       "Poselenie Shherbinka              246\n",
       "Izmajlovo                         244\n",
       "Zjuzino                           237\n",
       "Horoshevo-Mnevniki                236\n",
       "Kosino-Uhtomskoe                  235\n",
       "Perovo                            232\n",
       "Ochakovo-Matveevskoe              231\n",
       "Chertanovo Juzhnoe                228\n",
       "Poselenie Desjonovskoe            228\n",
       "Jasenevo                          227\n",
       "Bibirevo                          227\n",
       "Severnoe Tushino                  222\n",
       "Kuz'minki                         218\n",
       "Golovinskoe                       213\n",
       "Orehovo-Borisovo Juzhnoe          206\n",
       "Kon'kovo                          204\n",
       "Koptevo                           201\n",
       "Caricyno                          201\n",
       "Akademicheskoe                    199\n",
       "Veshnjaki                         199\n",
       "Ramenki                           194\n",
       "Ivanovskoe                        193\n",
       "Novogireevo                       193\n",
       "Pechatniki                        190\n",
       "Chertanovo Severnoe               188\n",
       "Mozhajskoe                        185\n",
       "Danilovskoe                       184\n",
       "Brateevo                          181\n",
       "Chertanovo Central'noe            181\n",
       "Severnoe Butovo                   179\n",
       "Sokolinaja Gora                   179\n",
       "Orehovo-Borisovo Severnoe         179\n",
       "Rjazanskij                        176\n",
       "Kuncevo                           170\n",
       "Taganskoe                         169\n",
       "Hovrino                           169\n",
       "Dmitrovskoe                       168\n",
       "Severnoe Medvedkovo               164\n",
       "Beskudnikovskoe                   162\n",
       "Presnenskoe                       162\n",
       "Teplyj Stan                       161\n",
       "Losinoostrovskoe                  160\n",
       "Juzhnoe Tushino                   158\n",
       "Severnoe Izmajlovo                156\n",
       "Cheremushki                       152\n",
       "Nagatino-Sadovniki                151\n",
       "Timirjazevskoe                    148\n",
       "Preobrazhenskoe                   147\n",
       "Novo-Peredelkino                  142\n",
       "Filevskij Park                    142\n",
       "Shhukino                          142\n",
       "Kotlovka                          141\n",
       "Novokosino                        139\n",
       "Juzhnoe Medvedkovo                139\n",
       "Lomonosovskoe                     131\n",
       "Levoberezhnoe                     128\n",
       "Zjablikovo                        126\n",
       "Vostochnoe Izmajlovo              126\n",
       "Fili Davydkovo                    125\n",
       "Lianozovo                         123\n",
       "Sviblovo                          122\n",
       "Obruchevskoe                      121\n",
       "Pokrovskoe Streshnevo             120\n",
       "Jaroslavskoe                      119\n",
       "Vojkovskoe                        118\n",
       "Juzhnoportovoe                    117\n",
       "Poselenie Novofedorovskoe         117\n",
       "Vostochnoe Degunino               116\n",
       "Troickij okrug                    116\n",
       "Donskoe                           115\n",
       "Birjulevo Zapadnoe                114\n",
       "Troparevo-Nikulino                113\n",
       "Lefortovo                         113\n",
       "Ajeroport                         112\n",
       "Matushkino                        111\n",
       "Mar'ina Roshha                    105\n",
       "Babushkinskoe                     105\n",
       "Horoshevskoe                      102\n",
       "Butyrskoe                         101\n",
       "Silino                             99\n",
       "Moskvorech'e-Saburovo              98\n",
       "Savelki                            98\n",
       "Krylatskoe                         97\n",
       "Alekseevskoe                       95\n",
       "Staroe Krjukovo                    92\n",
       "Basmannoe                          89\n",
       "Prospekt Vernadskogo               87\n",
       "Marfino                            84\n",
       "Savelovskoe                        81\n",
       "Meshhanskoe                        79\n",
       "Poselenie Pervomajskoe             78\n",
       "Ostankinskoe                       77\n",
       "Hamovniki                          75\n",
       "Nizhegorodskoe                     75\n",
       "Gagarinskoe                        70\n",
       "Jakimanka                          69\n",
       "Sokol                              68\n",
       "Rostokino                          63\n",
       "Altuf'evskoe                       62\n",
       "Metrogorodok                       58\n",
       "Sokol'niki                         57\n",
       "Dorogomilovo                       55\n",
       "Begovoe                            53\n",
       "Zamoskvorech'e                     44\n",
       "Kapotnja                           44\n",
       "Vnukovo                            43\n",
       "Kurkino                            43\n",
       "Severnoe                           36\n",
       "Krasnosel'skoe                     33\n",
       "Poselenie Rjazanovskoe             29\n",
       "Poselenie Krasnopahorskoe          21\n",
       "Poselenie Kokoshkino               16\n",
       "Poselenie Mosrentgen               15\n",
       "Arbat                              14\n",
       "Vostochnoe                          7\n",
       "Poselenie Marushkinskoe             6\n",
       "Poselenie Voronovskoe               6\n",
       "Molzhaninovskoe                     3\n",
       "Poselenie Shhapovskoe               2\n",
       "Poselenie Kievskij                  2\n",
       "Poselenie Rogovskoe                 2\n",
       "Poselenie Klenovskoe                1\n",
       "Poselenie Mihajlovo-Jarcevskoe      1\n",
       "Name: sub_area, dtype: int64"
      ]
     },
     "execution_count": 47,
     "metadata": {},
     "output_type": "execute_result"
    }
   ],
   "source": [
    "# преобразование столбца с high cardinality\n",
    "df['sub_area'].value_counts()"
   ]
  },
  {
   "cell_type": "code",
   "execution_count": null,
   "id": "b6f4e096",
   "metadata": {},
   "outputs": [],
   "source": [
    "df = df.drop('sub_area', axis=1)\n",
    "df['sub_area_new'].nunique()"
   ]
  },
  {
   "cell_type": "code",
   "execution_count": 54,
   "id": "18a0fb0a",
   "metadata": {},
   "outputs": [
    {
     "data": {
      "text/plain": [
       "(18924, 381)"
      ]
     },
     "execution_count": 54,
     "metadata": {},
     "output_type": "execute_result"
    }
   ],
   "source": [
    "# чистим отдельные столбцы\n",
    "df = df[df['num_room']>0]\n",
    "\n",
    "df.shape"
   ]
  },
  {
   "cell_type": "code",
   "execution_count": 55,
   "id": "24fbccd2",
   "metadata": {},
   "outputs": [
    {
     "data": {
      "text/plain": [
       "2.0     5729\n",
       "3.0     5633\n",
       "1.0     4219\n",
       "4.0      370\n",
       "33.0       1\n",
       "Name: state, dtype: int64"
      ]
     },
     "execution_count": 55,
     "metadata": {},
     "output_type": "execute_result"
    }
   ],
   "source": [
    "df['state'].value_counts()"
   ]
  },
  {
   "cell_type": "code",
   "execution_count": 56,
   "id": "2d583973",
   "metadata": {},
   "outputs": [
    {
     "name": "stderr",
     "output_type": "stream",
     "text": [
      "C:\\Users\\Admin\\AppData\\Local\\Temp\\ipykernel_9204\\4156140921.py:1: SettingWithCopyWarning: \n",
      "A value is trying to be set on a copy of a slice from a DataFrame\n",
      "\n",
      "See the caveats in the documentation: https://pandas.pydata.org/pandas-docs/stable/user_guide/indexing.html#returning-a-view-versus-a-copy\n",
      "  df['state'].replace(33,3, inplace=True)\n"
     ]
    },
    {
     "data": {
      "text/plain": [
       "2014.0        838\n",
       "2015.0        723\n",
       "2013.0        425\n",
       "1969.0        402\n",
       "1970.0        402\n",
       "1967.0        378\n",
       "1968.0        376\n",
       "1965.0        363\n",
       "1974.0        354\n",
       "1972.0        351\n",
       "1971.0        347\n",
       "1.0           343\n",
       "1960.0        339\n",
       "2016.0        334\n",
       "1966.0        334\n",
       "1962.0        327\n",
       "1963.0        325\n",
       "1973.0        320\n",
       "1975.0        307\n",
       "1964.0        301\n",
       "1961.0        292\n",
       "0.0           283\n",
       "1976.0        261\n",
       "1977.0        259\n",
       "1979.0        235\n",
       "1978.0        232\n",
       "2006.0        230\n",
       "1980.0        225\n",
       "2008.0        223\n",
       "2012.0        211\n",
       "2002.0        208\n",
       "2004.0        206\n",
       "2007.0        203\n",
       "1959.0        202\n",
       "1981.0        189\n",
       "1982.0        187\n",
       "1983.0        185\n",
       "2003.0        183\n",
       "1958.0        179\n",
       "1985.0        177\n",
       "2001.0        171\n",
       "1987.0        169\n",
       "1984.0        168\n",
       "2005.0        167\n",
       "1996.0        160\n",
       "1994.0        159\n",
       "2009.0        155\n",
       "1988.0        155\n",
       "1989.0        155\n",
       "1995.0        147\n",
       "2011.0        146\n",
       "2017.0        142\n",
       "1992.0        139\n",
       "1997.0        136\n",
       "1998.0        133\n",
       "1986.0        131\n",
       "1990.0        125\n",
       "2000.0        124\n",
       "1999.0        119\n",
       "2010.0        119\n",
       "1993.0        113\n",
       "1957.0        111\n",
       "1991.0         93\n",
       "1955.0         49\n",
       "1956.0         47\n",
       "1954.0         35\n",
       "1952.0         27\n",
       "1953.0         24\n",
       "1950.0         22\n",
       "1951.0         22\n",
       "1917.0         14\n",
       "1940.0         13\n",
       "1934.0         13\n",
       "1928.0         12\n",
       "1935.0         11\n",
       "1929.0         10\n",
       "1937.0         10\n",
       "1938.0          9\n",
       "1927.0          9\n",
       "1932.0          8\n",
       "1926.0          8\n",
       "1933.0          7\n",
       "1939.0          7\n",
       "1930.0          6\n",
       "1931.0          6\n",
       "1915.0          5\n",
       "1890.0          4\n",
       "1947.0          4\n",
       "1912.0          4\n",
       "1936.0          4\n",
       "1924.0          3\n",
       "1949.0          3\n",
       "1910.0          3\n",
       "3.0             2\n",
       "1946.0          2\n",
       "1860.0          2\n",
       "1896.0          2\n",
       "1941.0          2\n",
       "71.0            1\n",
       "1920.0          1\n",
       "215.0           1\n",
       "2018.0          1\n",
       "1905.0          1\n",
       "1691.0          1\n",
       "1943.0          1\n",
       "1948.0          1\n",
       "20052009.0      1\n",
       "1907.0          1\n",
       "1900.0          1\n",
       "1876.0          1\n",
       "1925.0          1\n",
       "1895.0          1\n",
       "4965.0          1\n",
       "1911.0          1\n",
       "1914.0          1\n",
       "Name: build_year, dtype: int64"
      ]
     },
     "execution_count": 56,
     "metadata": {},
     "output_type": "execute_result"
    }
   ],
   "source": [
    "df['state'].replace(33,3, inplace=True)\n",
    "df['build_year'].value_counts()"
   ]
  },
  {
   "cell_type": "code",
   "execution_count": 57,
   "id": "40a16c5c",
   "metadata": {},
   "outputs": [
    {
     "name": "stderr",
     "output_type": "stream",
     "text": [
      "C:\\Users\\Admin\\AppData\\Local\\Temp\\ipykernel_9204\\2624622061.py:2: SettingWithCopyWarning: \n",
      "A value is trying to be set on a copy of a slice from a DataFrame\n",
      "\n",
      "See the caveats in the documentation: https://pandas.pydata.org/pandas-docs/stable/user_guide/indexing.html#returning-a-view-versus-a-copy\n",
      "  df['build_year'].replace(bld_yr_replace, inplace = True)\n"
     ]
    }
   ],
   "source": [
    "bld_yr_replace = {20052009:2009, 0:np.nan, 1:np.nan, 2:np.nan, 3:np.nan, 20:2020, 215:2015, 4965:1965, 71:1971}\n",
    "df['build_year'].replace(bld_yr_replace, inplace = True)"
   ]
  },
  {
   "cell_type": "code",
   "execution_count": 58,
   "id": "f8c70797",
   "metadata": {},
   "outputs": [
    {
     "data": {
      "text/plain": [
       "array([ 17.,  16.,   9.,   8.,   0.,  24.,   1.,   5.,   6.,  10.,  25.,\n",
       "        14.,  12.,  22.,  23.,  20.,   7.,   4.,  30.,  11.,   3.,  18.,\n",
       "        40.,  32.,  15.,   2.,  27.,  21.,  19.,  13.,  39.,  38.,  31.,\n",
       "        26.,  37.,  29.,  33.,  36.,  28.,  34.,  42.,  48.,  45.,  99.,\n",
       "        44., 117.])"
      ]
     },
     "execution_count": 58,
     "metadata": {},
     "output_type": "execute_result"
    }
   ],
   "source": [
    "df['max_floor'].unique()"
   ]
  },
  {
   "cell_type": "code",
   "execution_count": 59,
   "id": "a468a976",
   "metadata": {},
   "outputs": [
    {
     "name": "stderr",
     "output_type": "stream",
     "text": [
      "C:\\Users\\Admin\\AppData\\Local\\Temp\\ipykernel_9204\\841794367.py:2: SettingWithCopyWarning: \n",
      "A value is trying to be set on a copy of a slice from a DataFrame\n",
      "\n",
      "See the caveats in the documentation: https://pandas.pydata.org/pandas-docs/stable/user_guide/indexing.html#returning-a-view-versus-a-copy\n",
      "  df['max_floor'].replace(max_flr_replace, inplace = True)\n"
     ]
    }
   ],
   "source": [
    "max_flr_replace = {117:17, 99:np.nan, 0:np.nan}\n",
    "df['max_floor'].replace(max_flr_replace, inplace = True)"
   ]
  },
  {
   "cell_type": "code",
   "execution_count": null,
   "id": "c36468be",
   "metadata": {},
   "outputs": [],
   "source": [
    "# перемешиваем наблюдения\n",
    "df = shuffle(df)"
   ]
  },
  {
   "cell_type": "code",
   "execution_count": 60,
   "id": "25dc8cca",
   "metadata": {},
   "outputs": [],
   "source": [
    "# бейзлайн\n",
    "X_new = df.copy()\n",
    "X_new = X_new[X_new.select_dtypes(include = 'number').columns]\n",
    "\n",
    "X_new = X_new.dropna()\n",
    "y_new = X_new.pop('target')\n",
    "\n",
    "X_train0, X_test0, y_train0, y_test0 = tts(X_new, y_new, test_size=0.2, shuffle=True, random_state=42)\n",
    "pr_index_train = X_train0.pop('price_index')\n",
    "price_index_test = X_test0.pop('price_index')"
   ]
  },
  {
   "cell_type": "code",
   "execution_count": 61,
   "id": "13d53373",
   "metadata": {},
   "outputs": [
    {
     "data": {
      "text/plain": [
       "(3874, 379)"
      ]
     },
     "execution_count": 61,
     "metadata": {},
     "output_type": "execute_result"
    }
   ],
   "source": [
    "X_train0.shape"
   ]
  },
  {
   "cell_type": "code",
   "execution_count": 62,
   "id": "bbe1411f",
   "metadata": {},
   "outputs": [
    {
     "data": {
      "text/html": [
       "<style>#sk-container-id-1 {color: black;background-color: white;}#sk-container-id-1 pre{padding: 0;}#sk-container-id-1 div.sk-toggleable {background-color: white;}#sk-container-id-1 label.sk-toggleable__label {cursor: pointer;display: block;width: 100%;margin-bottom: 0;padding: 0.3em;box-sizing: border-box;text-align: center;}#sk-container-id-1 label.sk-toggleable__label-arrow:before {content: \"▸\";float: left;margin-right: 0.25em;color: #696969;}#sk-container-id-1 label.sk-toggleable__label-arrow:hover:before {color: black;}#sk-container-id-1 div.sk-estimator:hover label.sk-toggleable__label-arrow:before {color: black;}#sk-container-id-1 div.sk-toggleable__content {max-height: 0;max-width: 0;overflow: hidden;text-align: left;background-color: #f0f8ff;}#sk-container-id-1 div.sk-toggleable__content pre {margin: 0.2em;color: black;border-radius: 0.25em;background-color: #f0f8ff;}#sk-container-id-1 input.sk-toggleable__control:checked~div.sk-toggleable__content {max-height: 200px;max-width: 100%;overflow: auto;}#sk-container-id-1 input.sk-toggleable__control:checked~label.sk-toggleable__label-arrow:before {content: \"▾\";}#sk-container-id-1 div.sk-estimator input.sk-toggleable__control:checked~label.sk-toggleable__label {background-color: #d4ebff;}#sk-container-id-1 div.sk-label input.sk-toggleable__control:checked~label.sk-toggleable__label {background-color: #d4ebff;}#sk-container-id-1 input.sk-hidden--visually {border: 0;clip: rect(1px 1px 1px 1px);clip: rect(1px, 1px, 1px, 1px);height: 1px;margin: -1px;overflow: hidden;padding: 0;position: absolute;width: 1px;}#sk-container-id-1 div.sk-estimator {font-family: monospace;background-color: #f0f8ff;border: 1px dotted black;border-radius: 0.25em;box-sizing: border-box;margin-bottom: 0.5em;}#sk-container-id-1 div.sk-estimator:hover {background-color: #d4ebff;}#sk-container-id-1 div.sk-parallel-item::after {content: \"\";width: 100%;border-bottom: 1px solid gray;flex-grow: 1;}#sk-container-id-1 div.sk-label:hover label.sk-toggleable__label {background-color: #d4ebff;}#sk-container-id-1 div.sk-serial::before {content: \"\";position: absolute;border-left: 1px solid gray;box-sizing: border-box;top: 0;bottom: 0;left: 50%;z-index: 0;}#sk-container-id-1 div.sk-serial {display: flex;flex-direction: column;align-items: center;background-color: white;padding-right: 0.2em;padding-left: 0.2em;position: relative;}#sk-container-id-1 div.sk-item {position: relative;z-index: 1;}#sk-container-id-1 div.sk-parallel {display: flex;align-items: stretch;justify-content: center;background-color: white;position: relative;}#sk-container-id-1 div.sk-item::before, #sk-container-id-1 div.sk-parallel-item::before {content: \"\";position: absolute;border-left: 1px solid gray;box-sizing: border-box;top: 0;bottom: 0;left: 50%;z-index: -1;}#sk-container-id-1 div.sk-parallel-item {display: flex;flex-direction: column;z-index: 1;position: relative;background-color: white;}#sk-container-id-1 div.sk-parallel-item:first-child::after {align-self: flex-end;width: 50%;}#sk-container-id-1 div.sk-parallel-item:last-child::after {align-self: flex-start;width: 50%;}#sk-container-id-1 div.sk-parallel-item:only-child::after {width: 0;}#sk-container-id-1 div.sk-dashed-wrapped {border: 1px dashed gray;margin: 0 0.4em 0.5em 0.4em;box-sizing: border-box;padding-bottom: 0.4em;background-color: white;}#sk-container-id-1 div.sk-label label {font-family: monospace;font-weight: bold;display: inline-block;line-height: 1.2em;}#sk-container-id-1 div.sk-label-container {text-align: center;}#sk-container-id-1 div.sk-container {/* jupyter's `normalize.less` sets `[hidden] { display: none; }` but bootstrap.min.css set `[hidden] { display: none !important; }` so we also need the `!important` here to be able to override the default hidden behavior on the sphinx rendered scikit-learn.org. See: https://github.com/scikit-learn/scikit-learn/issues/21755 */display: inline-block !important;position: relative;}#sk-container-id-1 div.sk-text-repr-fallback {display: none;}</style><div id=\"sk-container-id-1\" class=\"sk-top-container\"><div class=\"sk-text-repr-fallback\"><pre>GradientBoostingRegressor(random_state=0)</pre><b>In a Jupyter environment, please rerun this cell to show the HTML representation or trust the notebook. <br />On GitHub, the HTML representation is unable to render, please try loading this page with nbviewer.org.</b></div><div class=\"sk-container\" hidden><div class=\"sk-item\"><div class=\"sk-estimator sk-toggleable\"><input class=\"sk-toggleable__control sk-hidden--visually\" id=\"sk-estimator-id-1\" type=\"checkbox\" checked><label for=\"sk-estimator-id-1\" class=\"sk-toggleable__label sk-toggleable__label-arrow\">GradientBoostingRegressor</label><div class=\"sk-toggleable__content\"><pre>GradientBoostingRegressor(random_state=0)</pre></div></div></div></div></div>"
      ],
      "text/plain": [
       "GradientBoostingRegressor(random_state=0)"
      ]
     },
     "execution_count": 62,
     "metadata": {},
     "output_type": "execute_result"
    }
   ],
   "source": [
    "from sklearn.ensemble import GradientBoostingRegressor\n",
    "\n",
    "reg0 = GradientBoostingRegressor(random_state=0)\n",
    "reg0.fit(X_train0, y_train0)"
   ]
  },
  {
   "cell_type": "code",
   "execution_count": 63,
   "id": "9c128b62",
   "metadata": {},
   "outputs": [],
   "source": [
    "y_train_pred0 = reg0.predict(X_train0)\n",
    "y_test_pred0 = reg0.predict(X_test0)"
   ]
  },
  {
   "cell_type": "code",
   "execution_count": 64,
   "id": "ce4d0a25",
   "metadata": {},
   "outputs": [],
   "source": [
    "def train_transf(target):\n",
    "  return np.expm1(target)*pr_index_train\n",
    "\n",
    "def test_transf(target):\n",
    "  return np.expm1(target)*price_index_test"
   ]
  },
  {
   "cell_type": "code",
   "execution_count": 65,
   "id": "b26c4555",
   "metadata": {},
   "outputs": [
    {
     "name": "stdout",
     "output_type": "stream",
     "text": [
      "Train RMSLE 0.4881660425159862   Test RMSLE: 0.5538929915336395\n",
      "Train MAE 38567.180650559705   Test MAE: 44409.66750743028\n"
     ]
    }
   ],
   "source": [
    "from sklearn.metrics import mean_absolute_error as mae, mean_squared_error as mse\n",
    "\n",
    "print('Train RMSLE', np.sqrt(mse(y_train0, y_train_pred0)), ' ', 'Test RMSLE:', np.sqrt(mse(y_test0, y_test_pred0)))\n",
    "print('Train MAE', mae(train_transf(y_train0), train_transf(y_train_pred0)),' ', 'Test MAE:', mae(test_transf(y_test0), test_transf(y_test_pred0)))"
   ]
  },
  {
   "cell_type": "code",
   "execution_count": 66,
   "id": "e16e0c9e",
   "metadata": {},
   "outputs": [
    {
     "data": {
      "text/plain": [
       "159598.63846329172"
      ]
     },
     "execution_count": 66,
     "metadata": {},
     "output_type": "execute_result"
    }
   ],
   "source": [
    "test_transf(y_test0).mean()"
   ]
  },
  {
   "cell_type": "code",
   "execution_count": 67,
   "id": "ace0ac0e",
   "metadata": {},
   "outputs": [
    {
     "data": {
      "text/plain": [
       "0.27825843588035787"
      ]
     },
     "execution_count": 67,
     "metadata": {},
     "output_type": "execute_result"
    }
   ],
   "source": [
    "mae(test_transf(y_test0), test_transf(y_test_pred0)) / test_transf(y_test0).mean()"
   ]
  },
  {
   "cell_type": "code",
   "execution_count": null,
   "id": "317c3349",
   "metadata": {},
   "outputs": [],
   "source": []
  },
  {
   "cell_type": "code",
   "execution_count": null,
   "id": "699f5cac",
   "metadata": {},
   "outputs": [],
   "source": [
    "# создаем новые фичи"
   ]
  },
  {
   "cell_type": "code",
   "execution_count": null,
   "id": "45fb49e6",
   "metadata": {},
   "outputs": [],
   "source": [
    "df['av_room_sq'] = df['full_sq'] / df['num_room']\n",
    "\n",
    "df['living_share'] = df['life_sq'] / df['full_sq']\n",
    "df['resident_to_total_ratio'] = df['life_sq'] / df['full_sq']\n",
    "df['kitchen_to_total_ratio'] = df['kitch_sq'] / df['full_sq']\n",
    "\n",
    "df['extra_area'] = df['full_sq'] - df['life_sq']\n",
    "df['extra_area_ratio'] = df['extra_area'] / df['full_sq']\n",
    "\n",
    "df['avg_room_area'] = df['life_sq'] / df['num_room']\n",
    "\n",
    "df['year_old'] = 2021 - df['build_year']\n",
    "\n",
    "df['young_proportion'] = df['young_all'] / df['full_all']\n",
    "df['work_proportion'] = df['work_all'] / df['full_all']\n",
    "df['retire_proportion'] = df['ekder_all'] / df['full_all']\n",
    "df['female_to_maie'] = df['female_f'] / df['male_f']\n",
    "\n",
    "df['count_nan_per_row'] = df.isnull().sum(axis = 1)"
   ]
  },
  {
   "cell_type": "code",
   "execution_count": 71,
   "id": "298a9ab2",
   "metadata": {},
   "outputs": [],
   "source": [
    "X = df.copy()\n",
    "y = X.pop('target')"
   ]
  },
  {
   "cell_type": "code",
   "execution_count": null,
   "id": "281080d7",
   "metadata": {},
   "outputs": [],
   "source": [
    "X_train, X_test, y_train, y_test = tts(X, y, test_size = 0.2, stratify=X['sub_area_new'], shuffle=True, random_state=42)\n",
    "pr_index_train = X_train.pop('price_index')\n",
    "price_index_test = X_test.pop('price_index')"
   ]
  },
  {
   "cell_type": "code",
   "execution_count": 78,
   "id": "c64a573a",
   "metadata": {},
   "outputs": [],
   "source": [
    "from sklearn.pipeline import Pipeline\n",
    "from sklearn.compose import ColumnTransformer\n",
    "from sklearn.preprocessing import OneHotEncoder, MinMaxScaler\n",
    "from sklearn.impute import SimpleImputer"
   ]
  },
  {
   "cell_type": "code",
   "execution_count": null,
   "id": "5f4918bb",
   "metadata": {},
   "outputs": [],
   "source": [
    "cat_features1 = ['sub_area_new']\n",
    "cat_features2 = ['culture_objects_top_25', 'thermal_power_plant_raion', 'incineration_raion', 'oil_chemistry_raion', 'radiation_raion', \n",
    "                 'railroad_terminal_raion', 'big_market_raion', 'nuclear_reactor_raion', 'detention_facility_raion', 'water_1line', 'big_road1_1line', 'railroad_1line',\n",
    "                 'railroad_1line', 'product_type', 'ecology', 'material', 'state', 'build_year', 'dow', 'dom', 'doy', 'month', 'woy']\n",
    "\n",
    "cat_features = cat_features1 + cat_features2\n",
    "sc_features =list(set(X_train.columns.tolist()) - set(cat_features))"
   ]
  },
  {
   "cell_type": "code",
   "execution_count": 79,
   "id": "f8d0304f",
   "metadata": {},
   "outputs": [],
   "source": [
    "categorial_transformer = Pipeline(steps=[('imputer', SimpleImputer(strategy='most_frequent')),\n",
    "                                         ('onehot', OneHotEncoder(handle_unknown='ignore', sparse=False))])"
   ]
  },
  {
   "cell_type": "code",
   "execution_count": 81,
   "id": "a5f6f1c7",
   "metadata": {},
   "outputs": [],
   "source": [
    "imputer_transformer = Pipeline(steps=[('imputer', SimpleImputer(strategy='most_frequent'))])"
   ]
  },
  {
   "cell_type": "code",
   "execution_count": 82,
   "id": "a23503e0",
   "metadata": {},
   "outputs": [],
   "source": [
    "scale_transformer = Pipeline(steps=[('imputer', SimpleImputer(strategy='median')),\n",
    "                                    ('scaler', MinMaxScaler())])"
   ]
  },
  {
   "cell_type": "code",
   "execution_count": null,
   "id": "4672531d",
   "metadata": {},
   "outputs": [],
   "source": [
    "\n",
    "preprocessor = ColumnTransformer(transformers=[('cat1', categorial_transformer, cat_features1),\n",
    "                                               ('cat2', imputer_transformer, cat_features2),\n",
    "                                               ('scale', scale_transformer, sc_features)\n",
    "                                               ],remainder = 'passthrough' )"
   ]
  },
  {
   "cell_type": "code",
   "execution_count": null,
   "id": "111b3ce3",
   "metadata": {},
   "outputs": [],
   "source": [
    "reg = Pipeline(steps= [('preprocessor', preprocessor),\n",
    "                       ('regressor', GradientBoostingRegressor(random_state=5))])"
   ]
  },
  {
   "cell_type": "code",
   "execution_count": null,
   "id": "2f0efb64",
   "metadata": {},
   "outputs": [],
   "source": [
    "reg.fit(X_train, y_train)\n",
    "\n",
    "Pipeline(steps=[('preprocessor',\n",
    "                 ColumnTransformer(remainder='passthrough',\n",
    "                                   transformers=[('cat1',\n",
    "                                                  Pipeline(steps=[('imputer',\n",
    "                                                                   SimpleImputer(strategy='most_frequent')),\n",
    "                                                                  ('onehot',\n",
    "                                                                   OneHotEncoder(handle_unknown='ignore',\n",
    "                                                                                 sparse=False))]),\n",
    "                                                  ['sub_area_new']),\n",
    "                                                 ('cat2',\n",
    "                                                  Pipeline(steps=[('imputer',\n",
    "                                                                   SimpleImputer(strategy='most_frequent'))]),\n",
    "                                                  ['culture_objects_top_25'...\n",
    "                                                   'water_pipes_share',\n",
    "                                                   'students_state_oneshift',\n",
    "                                                   'salary',\n",
    "                                                   'mosque_count_5000',\n",
    "                                                   'ekder_female',\n",
    "                                                   'build_count_wood',\n",
    "                                                   '16_29_male',\n",
    "                                                   'university_top_20_raion',\n",
    "                                                   'church_count_1000',\n",
    "                                                   'market_count_3000',\n",
    "                                                   'cafe_count_500_price_4000',\n",
    "                                                   'green_part_500',\n",
    "                                                   'cafe_avg_price_500',\n",
    "                                                   'water_treatment_km',\n",
    "                                                   '7_14_male', ...])])),\n",
    "                ('regressor', GradientBoostingRegressor(random_state=5))])"
   ]
  },
  {
   "cell_type": "code",
   "execution_count": null,
   "id": "7feafa2f",
   "metadata": {},
   "outputs": [],
   "source": [
    "y_train_pred = reg.predict(X_train)\n",
    "y_test_pred = reg.predict(X_test)"
   ]
  },
  {
   "cell_type": "code",
   "execution_count": null,
   "id": "75a6ed6e",
   "metadata": {},
   "outputs": [],
   "source": [
    "from sklearn.metrics import mean_absolute_error as mae, mean_squared_error as mse\n",
    "\n",
    "print('Train RMSLE', np.sqrt(mse(y_train, y_train_pred)), ' ', 'Test RMSLE:', np.sqrt(mse(y_test, y_test_pred)))\n",
    "print('Train MAE', mae(train_transf(y_train), train_transf(y_train_pred)),' ', 'Test MAE:', mae(test_transf(y_test), test_transf(y_test_pred)))\n",
    "\n",
    "Train RMSLE 0.43164929221630793   Test RMSLE: 0.4573309675201005\n",
    "Train MAE 29540.009097855585   Test MAE: 31884.877825396296"
   ]
  },
  {
   "cell_type": "code",
   "execution_count": null,
   "id": "755f03f1",
   "metadata": {},
   "outputs": [],
   "source": [
    "test_transf(y_test).mean()"
   ]
  },
  {
   "cell_type": "code",
   "execution_count": null,
   "id": "bba52713",
   "metadata": {},
   "outputs": [],
   "source": [
    "mae(test_transf(y_test), test_transf(y_test_pred)) / test_transf(y_test).mean()"
   ]
  },
  {
   "cell_type": "code",
   "execution_count": null,
   "id": "38cc909a",
   "metadata": {},
   "outputs": [],
   "source": [
    "45321 / 31884 -1"
   ]
  },
  {
   "cell_type": "code",
   "execution_count": null,
   "id": "bfe8d139",
   "metadata": {},
   "outputs": [],
   "source": [
    "cols1 = reg.named_steps['preprocessor'].transformers_[0][1].named_steps['onehot'].get_feature_names_out(cat_features1).tolist()\n",
    "cols2 = cat_features2\n",
    "cols3 = reg.named_steps['preprocessor'].transformers_[2][1].named_steps['scaler'].get_feature_names_out(sc_features).tolist()\n",
    "cols = cols1 + cols2 + cols3\n",
    "\n",
    "pd.Series(reg.named_steps['regressor'].feature_importances_, index=cols).sort_values(ascending = False).head(100)"
   ]
  },
  {
   "cell_type": "code",
   "execution_count": null,
   "id": "4342eb56",
   "metadata": {},
   "outputs": [],
   "source": []
  }
 ],
 "metadata": {
  "kernelspec": {
   "display_name": "Python 3 (ipykernel)",
   "language": "python",
   "name": "python3"
  },
  "language_info": {
   "codemirror_mode": {
    "name": "ipython",
    "version": 3
   },
   "file_extension": ".py",
   "mimetype": "text/x-python",
   "name": "python",
   "nbconvert_exporter": "python",
   "pygments_lexer": "ipython3",
   "version": "3.8.5"
  }
 },
 "nbformat": 4,
 "nbformat_minor": 5
}
